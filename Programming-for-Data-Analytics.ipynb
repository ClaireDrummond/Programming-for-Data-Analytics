{
 "cells": [
  {
   "cell_type": "markdown",
   "metadata": {},
   "source": [
    "# The numpy.random package"
   ]
  },
  {
   "cell_type": "markdown",
   "metadata": {},
   "source": [
    "## What is NumPy.random\n",
    "\n",
    "NumPy is the fundamental package for scientific computing with Python. It contains among other things:\n",
    "-a powerful N-dimensional array object\n",
    "-sophisticated (broadcasting) functions\n",
    "-tools for integrating C/C++ and Fortran code\n",
    "-useful linear algebra, Fourier transform, and random number capabilities\n",
    "\n",
    "Besides its obvious scientific uses, NumPy can also be used as an efficient multi-dimensional container of generic data. Arbitrary data-types can be defined. This allows NumPy to seamlessly and speedily integrate with a wide variety of databases. (http://www.numpy.org/)\n",
    "\n",
    "Numpy is bascially a maths library for python. Not only does it make basic computation easy, it also enables you to perform complex maths problems.  Numpy is an important package as so many other packages depend on it.  However interacting with it directly is not that common as you typically interact with NumPy through the use of other packages such as Panda's, SciPy.\n",
    "\n",
    "The NumPy.random package is a sub package of the Numpy package in Python.  The NumPy.random pakcage generates random numbers in Python. A computer can't generate random numbers.  It generates pseudorandom numbers, but for this exercise when I talk about random numbers please take it that I mean psuedo random numbers. There are lots of ways to generate different types of random numbers.  This is exactly what NumPy.random does."
   ]
  },
  {
   "cell_type": "markdown",
   "metadata": {},
   "source": [
    "# Simple Random Data & Permutations Functions \n",
    "\n",
    "## Simple Random Data\n",
    "If you want to generate random data for everyday purposes, you will find functions here to do that for you. With the functions in Simple Random Data, there are assumptions that are based on certain functions in 'Distributions'. Within 'Distributions' there are many functions that are all related to different probability distributions.  The best way to show the difference between the distributions is with a plot.\n",
    "\n",
    "\n",
    "## Permutations\n",
    "There are two functions here, shuffle and permutation.  Shuffle changes a Numpy array in place where as Permutation doesn't change what you pass into it."
   ]
  },
  {
   "cell_type": "code",
   "execution_count": 1,
   "metadata": {},
   "outputs": [
    {
     "data": {
      "text/plain": [
       "array([[0.24673262, 0.47683533],\n",
       "       [0.08371175, 0.35902062],\n",
       "       [0.66916466, 0.86402597]])"
      ]
     },
     "execution_count": 1,
     "metadata": {},
     "output_type": "execute_result"
    }
   ],
   "source": [
    "import numpy as np #importing the numpy package and renaming it as np\n",
    "np.random.rand(3,2) #here you get an array with 3 rows, 2 columns.  Each time you run the function, you get different numbers"
   ]
  },
  {
   "cell_type": "code",
   "execution_count": 2,
   "metadata": {},
   "outputs": [
    {
     "data": {
      "text/plain": [
       "array([[0.91817618, 0.70763889, 0.96547297, 0.09819142, 0.67860792,\n",
       "        0.20134415],\n",
       "       [0.85635099, 0.5362527 , 0.63151377, 0.48778312, 0.86044687,\n",
       "        0.27701583],\n",
       "       [0.72526306, 0.94558695, 0.46891196, 0.8990604 , 0.88966055,\n",
       "        0.62983643],\n",
       "       [0.43467887, 0.91122481, 0.88906707, 0.91750902, 0.63247171,\n",
       "        0.27631416]])"
      ]
     },
     "execution_count": 2,
     "metadata": {},
     "output_type": "execute_result"
    }
   ],
   "source": [
    "np.random.rand(4,6) #here you get an array with 4 rows, 6 columns"
   ]
  },
  {
   "cell_type": "code",
   "execution_count": 3,
   "metadata": {},
   "outputs": [
    {
     "data": {
      "text/plain": [
       "array([0.00511286, 0.1761143 , 0.97869931])"
      ]
     },
     "execution_count": 3,
     "metadata": {},
     "output_type": "execute_result"
    }
   ],
   "source": [
    "np.random.rand(3) #()shows the shape of the array"
   ]
  },
  {
   "cell_type": "code",
   "execution_count": null,
   "metadata": {},
   "outputs": [],
   "source": []
  }
 ],
 "metadata": {
  "kernelspec": {
   "display_name": "Python 3",
   "language": "python",
   "name": "python3"
  },
  "language_info": {
   "codemirror_mode": {
    "name": "ipython",
    "version": 3
   },
   "file_extension": ".py",
   "mimetype": "text/x-python",
   "name": "python",
   "nbconvert_exporter": "python",
   "pygments_lexer": "ipython3",
   "version": "3.6.6"
  }
 },
 "nbformat": 4,
 "nbformat_minor": 2
}
