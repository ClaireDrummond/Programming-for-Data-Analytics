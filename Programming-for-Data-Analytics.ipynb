{
 "cells": [
  {
   "cell_type": "markdown",
   "metadata": {},
   "source": [
    "# The numpy.random package"
   ]
  },
  {
   "cell_type": "markdown",
   "metadata": {},
   "source": [
    "## What is NumPy.random\n",
    "\n",
    "NumPy is the fundamental package for scientific computing with Python. It contains among other things:\n",
    "-a powerful N-dimensional array object\n",
    "-sophisticated (broadcasting) functions\n",
    "-tools for integrating C/C++ and Fortran code\n",
    "-useful linear algebra, Fourier transform, and random number capabilities\n",
    "\n",
    "Besides its obvious scientific uses, NumPy can also be used as an efficient multi-dimensional container of generic data. Arbitrary data-types can be defined. This allows NumPy to seamlessly and speedily integrate with a wide variety of databases. (http://www.numpy.org/)\n",
    "\n",
    "Numpy is bascially a maths library for python. Not only does it make basic computation easy, it also enables you to perform complex maths problems.  Numpy is an important package as so many other packages depend on it.  However interacting with it directly is not that common as you typically interact with NumPy through the use of other packages such as Panda's, SciPy.\n",
    "\n",
    "The NumPy.random package is a sub package of the Numpy package in Python.  The NumPy.random pakcage generates random numbers in Python. A computer can't generate random numbers.  It generates pseudorandom numbers, but for this exercise when I talk about random numbers please take it that I mean psuedo random numbers. There are lots of ways to generate different types of random numbers.  This is exactly what NumPy.random does."
   ]
  },
  {
   "cell_type": "markdown",
   "metadata": {},
   "source": [
    "# Simple Random Data & Permutations Functions \n",
    "\n",
    "## Simple Random Data\n",
    "If you want to generate random data for everyday purposes, you will find functions here to do that for you. With the functions in Simple Random Data, there are assumptions that are based on certain functions in 'Distributions'. Within 'Distributions' there are many functions that are all related to different probability distributions.  The best way to show the difference between the distributions is with a plot.\n",
    "\n",
    "\n",
    "## Permutations\n",
    "There are two functions here, shuffle and permutation.  Shuffle changes a Numpy array in place where as Permutation doesn't change what you pass into it."
   ]
  },
  {
   "cell_type": "markdown",
   "metadata": {},
   "source": [
    "# Simple Random Data - Rand Function"
   ]
  },
  {
   "cell_type": "code",
   "execution_count": 2,
   "metadata": {},
   "outputs": [
    {
     "data": {
      "text/plain": [
       "array([[0.81982527, 0.85427299],\n",
       "       [0.61031589, 0.03985341],\n",
       "       [0.67862187, 0.8479655 ]])"
      ]
     },
     "execution_count": 2,
     "metadata": {},
     "output_type": "execute_result"
    }
   ],
   "source": [
    "import numpy as np #importing the numpy package and renaming it as np\n",
    "np.random.rand(3,2) #here you get an array with 3 rows, 2 columns.  Each time you run the function, you get different numbers"
   ]
  },
  {
   "cell_type": "code",
   "execution_count": 3,
   "metadata": {},
   "outputs": [
    {
     "data": {
      "text/plain": [
       "array([[0.29104717, 0.45885412, 0.91406262, 0.26890772, 0.85905109,\n",
       "        0.46418959],\n",
       "       [0.25239896, 0.88802187, 0.36404838, 0.86279197, 0.08846221,\n",
       "        0.69780459],\n",
       "       [0.42558972, 0.5091783 , 0.40662442, 0.86530061, 0.30047681,\n",
       "        0.21484061],\n",
       "       [0.01248614, 0.76889312, 0.83075839, 0.44577434, 0.57447225,\n",
       "        0.20442232]])"
      ]
     },
     "execution_count": 3,
     "metadata": {},
     "output_type": "execute_result"
    }
   ],
   "source": [
    "np.random.rand(4,6) #here you get an array with 4 rows, 6 columns"
   ]
  },
  {
   "cell_type": "code",
   "execution_count": 4,
   "metadata": {},
   "outputs": [
    {
     "data": {
      "text/plain": [
       "array([0.92055199, 0.82452254, 0.09632121])"
      ]
     },
     "execution_count": 4,
     "metadata": {},
     "output_type": "execute_result"
    }
   ],
   "source": [
    "np.random.rand(3) #()shows the shape of the array"
   ]
  },
  {
   "cell_type": "code",
   "execution_count": 27,
   "metadata": {},
   "outputs": [
    {
     "data": {
      "text/plain": [
       "(array([ 989., 1041.,  971., 1005., 1027., 1036.,  992.,  977.,  991.,\n",
       "         971.]),\n",
       " array([5.42671517e-05, 1.00039541e-01, 2.00024816e-01, 3.00010090e-01,\n",
       "        3.99995364e-01, 4.99980639e-01, 5.99965913e-01, 6.99951187e-01,\n",
       "        7.99936462e-01, 8.99921736e-01, 9.99907010e-01]),\n",
       " <a list of 10 Patch objects>)"
      ]
     },
     "execution_count": 27,
     "metadata": {},
     "output_type": "execute_result"
    },
    {
     "data": {
      "image/png": "[encoded data removed]",
      "text/plain": [
       "<Figure size 432x288 with 1 Axes>"
      ]
     },
     "metadata": {
      "needs_background": "light"
     },
     "output_type": "display_data"
    }
   ],
   "source": [
    "%matplotlib inline\n",
    "\n",
    "import matplotlib.pyplot as plt\n",
    "\n",
    "\n",
    "x = np.random.rand(10000)\n",
    "plt.hist(x)"
   ]
  },
  {
   "cell_type": "markdown",
   "metadata": {},
   "source": [
    "# Simple Random Data - random_sample Function"
   ]
  },
  {
   "cell_type": "code",
   "execution_count": 5,
   "metadata": {},
   "outputs": [
    {
     "data": {
      "text/plain": [
       "0.48373696256274545"
      ]
     },
     "execution_count": 5,
     "metadata": {},
     "output_type": "execute_result"
    }
   ],
   "source": [
    "np.random.random_sample() #Return random floats in the half-open interval [0.0, 1.0). \n",
    "#Results are from the “continuous uniform” distribution over the stated interval"
   ]
  },
  {
   "cell_type": "code",
   "execution_count": 6,
   "metadata": {},
   "outputs": [
    {
     "data": {
      "text/plain": [
       "array([0.17883583, 0.79644623, 0.94652093, 0.52515239, 0.21421923])"
      ]
     },
     "execution_count": 6,
     "metadata": {},
     "output_type": "execute_result"
    }
   ],
   "source": [
    "np.random.random_sample((5,))"
   ]
  },
  {
   "cell_type": "markdown",
   "metadata": {},
   "source": [
    "# Simple Random Data - random.choice\n",
    "\n",
    "Generates a random sample from a given 1-D array"
   ]
  },
  {
   "cell_type": "code",
   "execution_count": 7,
   "metadata": {},
   "outputs": [
    {
     "data": {
      "text/plain": [
       "array([3, 4, 2])"
      ]
     },
     "execution_count": 7,
     "metadata": {},
     "output_type": "execute_result"
    }
   ],
   "source": [
    " np.random.choice(5, 3)"
   ]
  },
  {
   "cell_type": "code",
   "execution_count": 8,
   "metadata": {},
   "outputs": [
    {
     "data": {
      "text/plain": [
       "array([5, 2, 4, 2])"
      ]
     },
     "execution_count": 8,
     "metadata": {},
     "output_type": "execute_result"
    }
   ],
   "source": [
    "np.random.choice(6, 4)"
   ]
  },
  {
   "cell_type": "code",
   "execution_count": 9,
   "metadata": {},
   "outputs": [
    {
     "data": {
      "text/plain": [
       "array([1])"
      ]
     },
     "execution_count": 9,
     "metadata": {},
     "output_type": "execute_result"
    }
   ],
   "source": [
    "np.random.choice(3, 1)"
   ]
  },
  {
   "cell_type": "code",
   "execution_count": 10,
   "metadata": {},
   "outputs": [
    {
     "data": {
      "text/plain": [
       "(4, 3)"
      ]
     },
     "execution_count": 10,
     "metadata": {},
     "output_type": "execute_result"
    }
   ],
   "source": [
    "x = [(1,2),(4,3),(6,9)]\n",
    "x[np.random.choice(len(x))]"
   ]
  },
  {
   "cell_type": "code",
   "execution_count": 11,
   "metadata": {},
   "outputs": [
    {
     "data": {
      "text/plain": [
       "(1, 2)"
      ]
     },
     "execution_count": 11,
     "metadata": {},
     "output_type": "execute_result"
    }
   ],
   "source": [
    "x[np.random.choice(len(x))]"
   ]
  },
  {
   "cell_type": "markdown",
   "metadata": {},
   "source": [
    "# Permutations - Shuffle\n",
    "\n",
    "Modifies a sequence in-place by shuffling its contents.  This function only shuffles the array along the first axis of a multi-dimensional array. The order of sub-arrays is changed but their contents remains the same"
   ]
  },
  {
   "cell_type": "code",
   "execution_count": 12,
   "metadata": {},
   "outputs": [
    {
     "data": {
      "text/plain": [
       "array([3, 2, 0, 5, 9, 8, 7, 6, 1, 4])"
      ]
     },
     "execution_count": 12,
     "metadata": {},
     "output_type": "execute_result"
    }
   ],
   "source": [
    "arr = np.arange(10)\n",
    "np.random.shuffle(arr)\n",
    "arr"
   ]
  },
  {
   "cell_type": "code",
   "execution_count": 13,
   "metadata": {},
   "outputs": [
    {
     "data": {
      "text/plain": [
       "array([[0, 1, 2],\n",
       "       [3, 4, 5],\n",
       "       [6, 7, 8]])"
      ]
     },
     "execution_count": 13,
     "metadata": {},
     "output_type": "execute_result"
    }
   ],
   "source": [
    "arr = np.arange(9).reshape((3, 3))\n",
    "np.random.shuffle(arr)\n",
    "arr"
   ]
  },
  {
   "cell_type": "code",
   "execution_count": 14,
   "metadata": {},
   "outputs": [
    {
     "data": {
      "text/plain": [
       "array([[8],\n",
       "       [3],\n",
       "       [2],\n",
       "       [0],\n",
       "       [7],\n",
       "       [5],\n",
       "       [6],\n",
       "       [4],\n",
       "       [1]])"
      ]
     },
     "execution_count": 14,
     "metadata": {},
     "output_type": "execute_result"
    }
   ],
   "source": [
    "arr = np.arange(9).reshape((9,1))\n",
    "np.random.shuffle(arr)\n",
    "arr"
   ]
  },
  {
   "cell_type": "markdown",
   "metadata": {},
   "source": [
    "# Permutations - Permutation\n",
    "\n",
    "Randomly permute a sequence, or return a permuted range.  If x is a multi-dimensional array, it is only shuffled along its first index"
   ]
  },
  {
   "cell_type": "code",
   "execution_count": 15,
   "metadata": {},
   "outputs": [
    {
     "data": {
      "text/plain": [
       "array([0, 3, 9, 5, 8, 1, 6, 2, 4, 7])"
      ]
     },
     "execution_count": 15,
     "metadata": {},
     "output_type": "execute_result"
    }
   ],
   "source": [
    " np.random.permutation(10)"
   ]
  },
  {
   "cell_type": "code",
   "execution_count": 16,
   "metadata": {},
   "outputs": [
    {
     "data": {
      "text/plain": [
       "array([ 4,  9, 15,  1, 12])"
      ]
     },
     "execution_count": 16,
     "metadata": {},
     "output_type": "execute_result"
    }
   ],
   "source": [
    " np.random.permutation([1, 4, 9, 12, 15])"
   ]
  },
  {
   "cell_type": "code",
   "execution_count": 17,
   "metadata": {},
   "outputs": [
    {
     "data": {
      "text/plain": [
       "array([[6, 7, 8],\n",
       "       [3, 4, 5],\n",
       "       [0, 1, 2]])"
      ]
     },
     "execution_count": 17,
     "metadata": {},
     "output_type": "execute_result"
    }
   ],
   "source": [
    "arr = np.arange(9).reshape((3, 3))\n",
    "np.random.permutation(arr)\n"
   ]
  },
  {
   "cell_type": "markdown",
   "metadata": {},
   "source": [
    "# Distributions"
   ]
  },
  {
   "cell_type": "code",
   "execution_count": 18,
   "metadata": {},
   "outputs": [
    {
     "data": {
      "text/plain": [
       "array([-5.62232568e-01, -5.38067596e-01, -8.89536727e-01, -9.41049642e-02,\n",
       "       -1.87297281e-02, -5.60509689e-01, -4.22700280e-01, -4.51294442e-02,\n",
       "       -8.42029337e-01, -4.61869313e-01, -2.56030613e-01, -1.87196231e-01,\n",
       "       -8.92017788e-01, -1.83279331e-01, -3.60698613e-01, -3.26942493e-01,\n",
       "       -2.80364401e-01, -6.04290644e-01, -2.74278131e-01, -1.73243804e-01,\n",
       "       -2.75402069e-01, -5.94394919e-01, -5.50927072e-01, -5.40154417e-01,\n",
       "       -4.68231319e-01, -8.05856387e-01, -9.76785904e-01, -4.93124190e-01,\n",
       "       -8.90418206e-03, -5.59903973e-04, -2.20407041e-01, -6.19141480e-02,\n",
       "       -4.50089782e-01, -4.80831302e-01, -6.15778293e-01, -3.31586456e-01,\n",
       "       -4.25864667e-01, -4.50211577e-01, -9.29408256e-01, -6.93762235e-01,\n",
       "       -7.27698895e-01, -2.27007474e-01, -7.34189273e-01, -5.31469944e-01,\n",
       "       -7.05396725e-01, -7.23117159e-01, -9.76260857e-01, -5.71474273e-01,\n",
       "       -8.05369306e-01, -2.28376843e-01, -1.85183138e-01, -6.80986041e-01,\n",
       "       -5.21830708e-01, -8.09633508e-01, -4.43690342e-01, -2.97613608e-01,\n",
       "       -2.45869362e-01, -8.89789044e-02, -7.25490533e-01, -6.79880902e-01,\n",
       "       -8.50531828e-01, -5.44444954e-01, -5.21040368e-01, -8.90808955e-01,\n",
       "       -5.29020991e-01, -3.32541574e-01, -1.64370355e-01, -4.55828229e-01,\n",
       "       -6.47855147e-01, -2.02025215e-01, -4.45941163e-02, -2.72348926e-01,\n",
       "       -1.95684969e-01, -8.64202283e-01, -7.60684976e-01, -9.07591522e-01,\n",
       "       -7.98857724e-01, -1.36421285e-02, -1.32029502e-01, -3.67319708e-01,\n",
       "       -8.52578615e-01, -9.69396877e-01, -2.12765133e-01, -8.03655824e-01,\n",
       "       -9.08020423e-01, -5.55614960e-02, -6.20984033e-01, -9.80440896e-01,\n",
       "       -6.87698368e-01, -6.20867431e-01, -6.84912168e-01, -7.23057948e-01,\n",
       "       -8.27334390e-02, -4.01254287e-01, -2.81549773e-01, -2.95519116e-01,\n",
       "       -9.02389395e-01, -1.90749440e-03, -9.11034936e-01, -7.35607393e-01])"
      ]
     },
     "execution_count": 18,
     "metadata": {},
     "output_type": "execute_result"
    }
   ],
   "source": [
    "np.random.uniform(-1, 0, 100)"
   ]
  },
  {
   "cell_type": "code",
   "execution_count": 19,
   "metadata": {},
   "outputs": [
    {
     "data": {
      "text/plain": [
       "array([-0.54856405, -0.26888123, -0.78651662, -0.87407261, -0.54956716,\n",
       "       -0.03087354, -0.7670167 , -0.56433044, -0.2152722 , -0.45858331])"
      ]
     },
     "execution_count": 19,
     "metadata": {},
     "output_type": "execute_result"
    }
   ],
   "source": [
    "np.random.uniform(-1, 0, 10)"
   ]
  },
  {
   "cell_type": "code",
   "execution_count": 21,
   "metadata": {},
   "outputs": [
    {
     "data": {
      "text/plain": [
       "array([2.53041825, 2.67877558, 2.9744125 , 2.91558904, 2.9749291 ,\n",
       "       2.55061756, 2.85401541, 2.4650042 , 2.12572801, 2.31106492])"
      ]
     },
     "execution_count": 21,
     "metadata": {},
     "output_type": "execute_result"
    }
   ],
   "source": [
    "np.random.uniform(2, 3, 10)"
   ]
  },
  {
   "cell_type": "code",
   "execution_count": 24,
   "metadata": {},
   "outputs": [
    {
     "data": {
      "text/plain": [
       "(array([1041.,  954.,  978.,  996., 1027., 1006.,  992., 1013.,  977.,\n",
       "        1016.]),\n",
       " array([3.62125686e-02, 1.00028600e+02, 2.00020988e+02, 3.00013375e+02,\n",
       "        4.00005763e+02, 4.99998151e+02, 5.99990538e+02, 6.99982926e+02,\n",
       "        7.99975313e+02, 8.99967701e+02, 9.99960089e+02]),\n",
       " <a list of 10 Patch objects>)"
      ]
     },
     "execution_count": 24,
     "metadata": {},
     "output_type": "execute_result"
    },
    {
     "data": {
      "image/png": "[encoded data removed]",
      "text/plain": [
       "<Figure size 432x288 with 1 Axes>"
      ]
     },
     "metadata": {
      "needs_background": "light"
     },
     "output_type": "display_data"
    }
   ],
   "source": [
    "%matplotlib inline\n",
    "\n",
    "import matplotlib.pyplot as plt\n",
    "\n",
    "x = np.random.uniform(0, 1000, 10000)\n",
    "plt.hist(x)"
   ]
  },
  {
   "cell_type": "code",
   "execution_count": 25,
   "metadata": {},
   "outputs": [
    {
     "data": {
      "text/plain": [
       "array([-2.31779300e-02,  7.44131377e-02,  2.66590118e-02,  1.67786144e-01,\n",
       "       -1.17612231e-01,  4.49933545e-02,  1.71554108e-02, -1.46815774e-01,\n",
       "        1.50605544e-01,  3.44763557e-03,  2.38594765e-01, -1.17145862e-01,\n",
       "        1.17514559e-01, -5.15856851e-02,  8.49659272e-02,  1.90537921e-01,\n",
       "       -1.75363920e-01, -1.86013981e-01,  3.49829966e-02,  1.52920596e-01,\n",
       "       -1.38575686e-01,  3.92732651e-02, -4.58035633e-02, -1.05903063e-01,\n",
       "        2.01622965e-02, -8.42479932e-02,  1.40102491e-02, -7.79696081e-02,\n",
       "       -1.90468349e-02,  5.45545805e-02,  1.51500726e-02, -1.82471736e-01,\n",
       "       -3.59950493e-02, -3.98865278e-02, -1.03512647e-01,  1.79378174e-01,\n",
       "        9.65068619e-02,  5.60724497e-02, -1.05367961e-01, -5.56482083e-02,\n",
       "        9.32269278e-02, -2.26159768e-02, -4.42663413e-02, -1.12298905e-02,\n",
       "        1.16912686e-01, -1.58697100e-02, -2.83054061e-02, -1.09481377e-01,\n",
       "        4.73971924e-02, -6.64793428e-02,  4.25696998e-02, -1.09351630e-01,\n",
       "       -7.78593459e-02,  1.47954301e-01, -4.19314413e-02, -9.74589346e-02,\n",
       "       -7.61058910e-03,  4.47749613e-02,  1.23472635e-01,  3.06546412e-02,\n",
       "       -5.26279974e-02,  6.60790881e-02, -1.00493563e-01, -8.79792576e-02,\n",
       "       -1.65993630e-01,  7.39755299e-02, -3.18860199e-02, -4.48684184e-02,\n",
       "       -1.22625210e-01,  7.83014639e-02,  2.55118066e-02,  5.46945731e-03,\n",
       "        1.82183217e-02, -3.93741634e-02, -2.91298120e-02, -6.85951426e-02,\n",
       "       -6.59578302e-02,  2.36525431e-01, -1.04099223e-01,  1.10921701e-01,\n",
       "       -9.39361720e-02, -1.59003558e-01,  9.19730839e-02,  3.36410435e-03,\n",
       "       -2.58142086e-02,  2.72786192e-01,  5.05780332e-02, -1.82149363e-02,\n",
       "       -3.93135343e-02,  6.88444679e-02,  4.94928822e-02, -7.39007742e-02,\n",
       "       -8.64841077e-02,  5.49302867e-02,  4.33061586e-03, -1.35698779e-01,\n",
       "       -2.22568964e-02, -2.93503421e-02,  2.91188064e-02,  6.92209741e-02,\n",
       "        8.75981146e-02,  1.92378534e-01, -1.14904707e-01, -3.30636320e-03,\n",
       "        7.46236575e-02,  3.81161044e-03, -1.05916448e-01, -1.12624729e-01,\n",
       "       -1.38641297e-01,  1.05693169e-03, -9.70014795e-02,  7.68829816e-02,\n",
       "        9.43752165e-02,  5.68449504e-02,  9.45625327e-03, -7.77883786e-02,\n",
       "       -8.59905250e-02, -5.78799140e-02,  1.19142619e-01,  8.22587354e-02,\n",
       "        6.05772798e-02,  1.11549688e-01, -3.90130553e-02,  1.44512840e-01,\n",
       "        8.88555788e-02,  1.33130879e-01, -1.42176470e-01, -3.33812667e-02,\n",
       "       -6.66471192e-02,  2.04889948e-02,  2.40463820e-01, -1.90479935e-02,\n",
       "        1.64559204e-01,  7.06381087e-02,  1.24582311e-01,  2.88082741e-02,\n",
       "        2.97801878e-02,  1.00575783e-01,  5.15695220e-02, -3.83559074e-02,\n",
       "        6.83062054e-03, -1.24482894e-02, -3.54159943e-01, -3.02008552e-02,\n",
       "        1.08379106e-01,  1.06905012e-01,  1.27576589e-02, -1.90293619e-03,\n",
       "       -7.69125036e-03,  9.02429666e-02,  1.87413062e-01,  6.09646866e-02,\n",
       "       -4.15429743e-02,  9.25979536e-02, -4.55419999e-02, -5.44704427e-02,\n",
       "       -8.44659678e-02, -1.75144860e-03,  1.06688978e-01,  6.42906822e-02,\n",
       "        6.46318553e-02, -4.61311928e-03, -1.72665385e-01,  4.55033705e-02,\n",
       "       -2.68194254e-02,  8.08391134e-02, -1.77331439e-01, -8.20396548e-02,\n",
       "        3.46238935e-03,  7.28109418e-02,  2.07177970e-03, -9.73016835e-03,\n",
       "        1.43333380e-02, -1.42630054e-02,  2.73076648e-02,  1.86428213e-01,\n",
       "       -1.88118522e-01, -1.36815393e-01, -2.76265258e-02, -3.42775780e-02,\n",
       "       -1.20501124e-01, -9.51977578e-02,  9.85255166e-02,  2.84666456e-02,\n",
       "       -5.78202544e-02,  1.31440954e-01, -7.53472661e-02, -7.85406745e-02,\n",
       "        1.53494546e-02, -3.19586182e-02,  2.10886067e-01,  9.15917472e-02,\n",
       "        7.10907066e-02, -7.67740497e-02,  1.26630464e-01,  1.98093136e-02,\n",
       "        7.32113576e-02,  1.27172373e-01, -1.37405932e-01,  1.45786359e-01,\n",
       "        1.39125630e-03,  1.28390617e-01, -2.59353997e-01, -2.58610089e-02,\n",
       "       -2.58722588e-02,  3.00185416e-02,  7.53350887e-02,  1.21757113e-02,\n",
       "       -1.30768560e-01, -2.43306886e-01, -8.88811509e-02, -8.11797580e-02,\n",
       "       -4.61762970e-02, -7.92797141e-02,  9.98534253e-02,  2.05162582e-02,\n",
       "        6.46194443e-02, -1.57414662e-01, -9.65069829e-03, -6.58857923e-02,\n",
       "        1.41382651e-01,  3.23094717e-02,  2.88011271e-02, -5.95284031e-02,\n",
       "        1.13237023e-02,  5.64360075e-02,  1.95007856e-01, -5.61230853e-02,\n",
       "       -9.42013543e-02,  4.66838513e-02,  1.05938890e-01, -1.98662018e-02,\n",
       "       -4.25275468e-02,  2.78775677e-02, -2.09794105e-01, -1.52298595e-02,\n",
       "        1.79080189e-02, -5.68387269e-02,  8.71257229e-02, -6.19623112e-02,\n",
       "       -5.77118122e-02,  7.33098009e-02,  7.51420161e-02, -8.27748737e-03,\n",
       "        4.21507563e-03, -9.10713012e-02, -2.13002627e-02, -8.26620596e-02,\n",
       "       -1.02237897e-01,  7.63260894e-02,  7.18486670e-02, -3.67437825e-02,\n",
       "       -8.87635201e-02, -7.71800298e-02, -5.41448568e-02,  1.92580001e-02,\n",
       "       -1.08484372e-01,  6.05924693e-02, -1.91473336e-01,  1.50066945e-01,\n",
       "       -2.32592811e-01, -8.07704801e-02,  2.08580557e-01,  1.37517922e-02,\n",
       "       -1.62912980e-01, -1.12452749e-01,  3.58253693e-02,  3.75534469e-02,\n",
       "       -8.75460521e-02, -7.14418139e-02, -1.25919342e-01, -8.35671070e-02,\n",
       "        2.25833811e-02,  9.79054931e-03, -6.14640414e-02, -2.01675382e-02,\n",
       "       -1.71589573e-01, -3.33117532e-03, -8.81203392e-03,  4.05611701e-02,\n",
       "        7.17924315e-02, -3.76268687e-02, -5.45865000e-03, -1.28318973e-01,\n",
       "       -4.27737228e-02,  8.91784900e-02,  1.45251621e-01, -4.80295007e-02,\n",
       "        6.80342849e-02,  1.92159394e-01, -1.98140030e-03, -2.81242802e-02,\n",
       "        3.45945629e-02, -1.54357598e-01,  1.86670578e-02, -1.08463568e-01,\n",
       "        2.35774522e-01,  1.69843603e-01, -1.11377975e-01, -1.31954249e-01,\n",
       "        1.90695096e-02, -1.13530288e-01, -1.32125772e-01, -1.38188312e-01,\n",
       "        1.18393026e-01, -4.36067681e-02, -1.44989097e-01, -1.33140601e-01,\n",
       "        1.26413638e-02, -4.58205384e-02, -4.65381494e-03,  2.98948700e-02,\n",
       "        7.05310720e-02, -6.81066775e-02, -2.22675085e-02, -4.28437436e-02,\n",
       "       -7.72806635e-02, -1.25446340e-02,  1.06391388e-01,  3.48196992e-02,\n",
       "        1.17811565e-02,  1.26918088e-01,  1.21003676e-02, -8.00584033e-02,\n",
       "        1.49265757e-02,  1.51970568e-01, -1.06966002e-01, -7.91993564e-02,\n",
       "       -4.67488454e-02, -9.13041633e-03, -6.41133352e-02, -9.32507927e-02,\n",
       "       -9.29138091e-02, -1.89666974e-01,  3.95198362e-03,  1.62019456e-01,\n",
       "        5.15954155e-04,  3.16306807e-02,  1.98224408e-02, -1.39127877e-01,\n",
       "       -1.55018584e-01, -7.60052565e-02, -1.14286424e-01, -1.71182882e-02,\n",
       "       -4.15676144e-02, -2.44358214e-02, -1.34109943e-02, -1.75326556e-02,\n",
       "       -6.33097660e-03,  1.38455047e-01,  2.38058157e-03,  1.55334726e-01,\n",
       "       -2.41523861e-02, -1.21706101e-01,  8.37957867e-02, -2.44040679e-01,\n",
       "       -1.48220363e-01,  6.19995469e-02, -1.63932989e-01, -5.88304913e-02,\n",
       "       -1.36088054e-02, -6.05615292e-02, -4.88471689e-02, -1.64594843e-02,\n",
       "        3.48380680e-02, -3.42136847e-03, -7.38310898e-02,  9.63719349e-02,\n",
       "       -8.85727114e-02, -1.05809623e-01, -7.93249495e-02,  1.86203716e-01,\n",
       "        9.46537506e-02, -1.00920783e-01,  1.92159276e-02, -1.05504955e-01,\n",
       "        3.31650579e-02,  2.04839601e-01,  6.75613477e-02, -1.01890666e-01,\n",
       "        4.75382628e-02, -1.80044416e-01,  7.27784913e-02, -5.64385756e-02,\n",
       "       -2.65682091e-02, -1.29201156e-01, -1.57482627e-01,  5.15137641e-02,\n",
       "        1.66472840e-01,  3.28929369e-02, -1.22365285e-01,  4.63499943e-02,\n",
       "        1.08853457e-02, -3.06284635e-02, -5.16457747e-02,  7.97764089e-02,\n",
       "        3.33638091e-02,  6.45448503e-02, -6.41260208e-02,  2.24772314e-01,\n",
       "       -8.16003763e-02,  2.99327615e-03, -8.63243962e-02, -4.78122540e-02,\n",
       "        4.84774238e-02, -2.20191824e-02,  8.71368557e-02,  1.35389422e-01,\n",
       "       -6.32444385e-02,  1.50357789e-02, -8.28708228e-02, -7.02053312e-03,\n",
       "       -1.06243765e-01,  1.26536726e-01,  1.18473212e-01, -1.72813294e-01,\n",
       "        4.17229083e-02, -1.50607845e-01,  1.52391070e-01, -2.45767073e-01,\n",
       "        1.19011647e-01,  1.67464946e-01, -1.68963353e-03, -4.90416470e-03,\n",
       "        2.19356331e-01,  4.85604495e-02,  1.06310656e-01, -5.49418221e-02,\n",
       "       -3.00835022e-01,  9.79928307e-02, -4.00105748e-02,  2.43356663e-02,\n",
       "       -1.82500791e-02, -9.38311260e-02, -1.01982954e-01,  3.45005195e-02,\n",
       "        1.22392222e-03, -1.55749453e-01, -1.32517867e-01, -9.86296908e-02,\n",
       "       -1.47046098e-01, -2.02740842e-01, -8.68448851e-02,  1.40386437e-01,\n",
       "        1.19059934e-01, -7.56503047e-02, -1.51699861e-01, -4.58509402e-02,\n",
       "       -6.34838359e-02, -6.21741711e-02, -1.10257386e-01, -6.73291631e-02,\n",
       "        1.30515249e-02,  7.70694284e-02, -2.39905946e-02, -1.06690992e-01,\n",
       "       -9.70374863e-03,  5.84663108e-02,  1.19009425e-01, -3.61048036e-02,\n",
       "       -1.92460086e-02, -8.88686690e-02, -8.01444097e-03,  1.35793731e-01,\n",
       "        1.66079787e-01,  5.74223913e-02,  5.07190625e-02,  1.06476837e-01,\n",
       "       -2.67669173e-02, -8.43957783e-03, -1.49405437e-01, -1.22008394e-01,\n",
       "        9.47287514e-02, -1.47587723e-01, -5.45438838e-02,  5.80297566e-02,\n",
       "       -1.56715643e-01,  5.36222439e-02,  6.20628823e-02,  6.02088967e-02,\n",
       "       -3.43618277e-02, -1.77345238e-01,  1.70463148e-01, -1.08828712e-01,\n",
       "        3.64854324e-02,  1.61552984e-01, -1.17572544e-01,  5.58073862e-02,\n",
       "       -1.72535491e-01, -1.38928918e-01,  2.12242797e-01,  1.42223029e-01,\n",
       "        3.19903529e-02, -1.00522723e-01,  4.05460964e-02, -2.37913988e-02,\n",
       "       -3.87513163e-02, -1.01845694e-01,  8.27454891e-02,  2.56825200e-02,\n",
       "       -4.59416608e-02, -4.04546168e-02,  1.13189485e-01,  9.68974858e-02,\n",
       "        1.41995258e-01, -2.06676303e-03, -5.75751473e-02, -1.22093768e-01,\n",
       "       -2.88518047e-02, -6.94805162e-02, -1.39154472e-02,  1.21106401e-01,\n",
       "       -1.99028656e-01,  7.78324816e-02, -2.39162387e-01, -3.10686881e-02,\n",
       "        6.65339985e-02, -8.10533090e-02,  1.68115349e-02,  6.71499745e-02,\n",
       "        6.08608742e-02, -6.76856215e-02,  6.83453992e-02,  1.53721452e-01,\n",
       "        2.27030251e-02, -7.35366062e-02, -9.61789207e-02,  6.44328150e-02,\n",
       "        3.39111775e-02, -3.45843758e-02,  6.55193469e-02,  6.90226067e-02,\n",
       "       -1.22776426e-01, -3.92676087e-02, -2.75876307e-02,  1.40559391e-01,\n",
       "       -6.59965082e-02, -6.66900458e-02,  1.69406885e-01, -1.11962003e-01,\n",
       "        1.76259448e-02, -8.79833767e-02, -3.55723903e-02,  1.84860322e-02,\n",
       "       -5.94207135e-02,  1.43766858e-01, -8.23227855e-02, -6.69590637e-02,\n",
       "       -1.62319670e-03, -8.37676080e-02,  5.70870459e-02, -1.14844902e-01,\n",
       "        9.04429026e-02,  1.43094056e-01, -2.57484124e-02, -3.45613813e-02,\n",
       "        5.93295937e-03, -1.48013405e-01,  7.10219138e-02, -1.10625520e-01,\n",
       "        2.60815809e-03,  1.24114105e-02, -1.24763770e-01,  1.15037250e-01,\n",
       "       -1.73092249e-01, -1.36836924e-02, -3.35910764e-02,  3.16903055e-02,\n",
       "        4.40118957e-02, -8.50032015e-02, -1.35408787e-02, -1.13524239e-01,\n",
       "       -2.24890449e-01,  5.18288462e-02,  6.43794032e-02,  2.80969776e-01,\n",
       "       -1.14628048e-01,  3.46638543e-02, -1.36244582e-01, -2.20002061e-02,\n",
       "       -1.43869761e-02, -5.54712614e-02,  1.36183018e-01,  4.78523485e-02,\n",
       "        3.07239850e-02, -6.80541286e-03,  4.45797746e-02, -1.07731876e-01,\n",
       "       -1.85309694e-01,  1.83479917e-01,  1.02947786e-01, -3.57162421e-02,\n",
       "        7.77432100e-02,  1.77281352e-01,  8.55602546e-02, -4.53462659e-02,\n",
       "        8.31855829e-02, -1.14430016e-01, -4.37099104e-02, -1.42137690e-01,\n",
       "       -5.39824318e-02, -6.41997334e-02,  5.88314784e-02,  1.11675100e-01,\n",
       "        1.64258587e-01,  8.23155727e-02,  1.09549101e-01, -9.09197146e-02,\n",
       "       -1.72983547e-01, -1.35474121e-01,  5.60844668e-03, -6.35144819e-03,\n",
       "        1.24156487e-02,  4.52437911e-02, -1.00244840e-01, -1.43205472e-01,\n",
       "        9.94172228e-02, -1.92994865e-02, -6.97624160e-02,  1.81015110e-01,\n",
       "       -6.64788124e-02, -1.08440128e-01,  4.20717882e-02, -6.95569289e-02,\n",
       "        2.90409042e-02, -4.45094928e-02, -2.16898493e-01,  9.97645131e-02,\n",
       "       -3.07189874e-02,  1.61168076e-01, -5.16546033e-02,  2.64079782e-01,\n",
       "        2.74008185e-02, -1.15350898e-01, -9.39405104e-02,  2.07885409e-01,\n",
       "       -8.63855778e-03, -3.96173536e-02, -1.02044714e-01, -7.59190551e-02,\n",
       "       -1.38833849e-01, -5.63445581e-02,  1.43624286e-01,  6.83197864e-04,\n",
       "       -2.09208650e-02, -4.91289802e-02, -1.10945832e-01, -1.47991687e-01,\n",
       "       -4.67769342e-02, -4.98540135e-02, -1.45604262e-02, -8.25441575e-02,\n",
       "       -1.27246857e-01,  6.98525851e-02,  8.49911992e-02,  3.70249749e-02,\n",
       "        1.10239420e-01, -1.25662619e-01,  2.34029035e-03,  1.52096486e-01,\n",
       "       -1.09008660e-02, -5.60722006e-02, -1.70430662e-02,  3.59025835e-02,\n",
       "        5.12943720e-02, -1.00560032e-01,  6.39524403e-02,  1.13039497e-02,\n",
       "       -2.17183745e-01,  2.14401041e-02, -2.29003611e-02, -5.23818292e-02,\n",
       "        1.59087817e-01,  1.04314713e-02, -7.11166441e-03,  3.20464587e-02,\n",
       "        9.38891385e-03,  2.83380898e-02, -5.44647719e-02, -1.55954239e-02,\n",
       "        8.60106597e-02, -9.07112212e-02, -1.29150303e-01,  1.84370294e-02,\n",
       "       -3.13406156e-02,  1.22346770e-01,  1.50742818e-01,  2.22428304e-01,\n",
       "        4.54618364e-02,  8.12626375e-02, -9.05754462e-02,  5.02620624e-03,\n",
       "       -6.96451018e-02,  5.90007751e-02,  9.08940627e-02,  6.33170041e-02,\n",
       "        6.65524941e-02, -8.63365915e-02,  9.82969900e-02,  1.58471916e-02,\n",
       "       -7.24417799e-02,  6.77305368e-02, -4.22791490e-02, -1.75219987e-01,\n",
       "       -1.44396926e-01, -6.47397859e-02, -6.68781679e-02,  1.92324763e-01,\n",
       "        3.45035118e-02, -6.28413291e-03,  1.18226389e-01, -1.76254208e-01,\n",
       "        5.61837411e-02,  7.94979482e-02, -4.39785023e-02,  4.07988560e-02,\n",
       "        1.05695868e-01, -3.09992831e-02, -2.75077844e-02,  7.68349563e-02,\n",
       "        2.03396965e-01,  6.82349631e-02, -2.22419099e-01, -1.29197555e-01,\n",
       "        6.46325289e-03,  1.01535680e-02,  4.21946681e-02,  1.53385950e-01,\n",
       "        4.67289082e-02, -1.16434406e-01,  5.14406335e-04, -9.79931545e-02,\n",
       "       -2.18350629e-01, -3.33940660e-02,  1.60342165e-01, -4.38615304e-02,\n",
       "       -6.80578423e-02, -4.25462109e-03, -1.60515185e-01, -9.33758524e-03,\n",
       "       -4.17715802e-02, -1.43637177e-01,  9.94290281e-02, -5.64172496e-02,\n",
       "        4.63827474e-03,  8.24870015e-02,  4.44383844e-03,  5.83383638e-02,\n",
       "       -1.57469589e-02, -1.42693302e-02, -2.90463314e-02, -3.78915738e-02,\n",
       "        9.21453940e-02,  1.30581288e-02,  1.00880592e-02,  6.47598374e-02,\n",
       "        7.99241341e-03, -5.75227278e-02, -6.14961881e-02, -1.28488844e-01,\n",
       "       -3.80167336e-02,  2.00950772e-02,  5.86220623e-02,  1.57153740e-01,\n",
       "       -1.00444925e-01,  4.27086686e-02,  9.55752945e-03, -3.45776449e-02,\n",
       "       -1.81113659e-01, -8.86480225e-02,  1.70988001e-02,  1.18393225e-01,\n",
       "        4.77067285e-03, -1.25506390e-01, -1.26121829e-01, -5.91233785e-02,\n",
       "        1.87781884e-01,  6.65569021e-02,  1.15289684e-02,  1.95595116e-01,\n",
       "       -1.90431334e-01,  3.08093313e-02,  2.54003452e-02,  1.46177823e-01,\n",
       "       -4.78455604e-04, -1.02365031e-01, -9.27306732e-02,  1.61242853e-01,\n",
       "        1.14561121e-01, -3.95536583e-02, -2.25295824e-01, -2.75268139e-02,\n",
       "       -1.49722149e-01, -1.84872814e-01,  1.86824168e-01, -1.16353716e-02,\n",
       "        2.35361895e-01, -1.32862878e-02,  4.22220452e-02,  1.89454052e-02,\n",
       "        6.36363212e-02,  1.57144883e-01,  1.15333809e-01, -1.36540350e-01,\n",
       "       -1.15135504e-01,  8.85468062e-02,  2.74571368e-02, -1.80582591e-01,\n",
       "       -6.53049377e-02,  4.15372625e-02,  2.08374612e-01, -5.32924232e-02,\n",
       "       -9.21906587e-02, -4.87148194e-02,  8.47750196e-02, -3.80569836e-02,\n",
       "        1.73826376e-01,  1.56122817e-01,  1.62589502e-02, -1.33332588e-01,\n",
       "        2.72114620e-02, -3.25570200e-02, -5.68876630e-02, -6.50374222e-03,\n",
       "        1.62324216e-01,  5.96681774e-02, -8.52207402e-02,  6.97471043e-02,\n",
       "        1.79290305e-01, -2.07254476e-02, -1.16074394e-02,  1.94890797e-02,\n",
       "        6.50880532e-03,  1.12048837e-01, -3.90158206e-02, -5.88171480e-02,\n",
       "       -2.72644462e-03, -1.97887484e-02, -8.07158125e-03,  6.43157050e-02,\n",
       "        8.65652805e-02,  6.10613355e-03,  1.27542905e-01, -4.59906365e-02,\n",
       "        4.31120307e-02,  7.36522686e-02,  1.13369186e-01, -5.21600973e-02,\n",
       "        1.23682536e-01,  1.27527102e-01,  1.57723157e-01, -6.22639656e-02,\n",
       "       -6.74120325e-02, -1.53458343e-02, -8.31357842e-02,  4.81232349e-03,\n",
       "        6.57888026e-02,  1.12812238e-02, -1.41308982e-01,  1.16270591e-03,\n",
       "       -9.44325177e-02, -6.37942018e-02, -5.41655817e-02,  9.32257250e-02,\n",
       "       -5.83953785e-02,  3.00468715e-02, -6.26589659e-02, -9.45360042e-02,\n",
       "        5.23340144e-03, -7.84650936e-02, -1.38945010e-01,  3.84888094e-02,\n",
       "       -5.95620904e-02,  2.59385940e-02,  3.50496245e-02,  1.01481611e-02,\n",
       "        3.57700132e-02,  1.86334289e-02, -1.67488722e-02,  2.63902350e-02,\n",
       "       -2.71291629e-01,  1.87793509e-02, -1.17875834e-01,  1.70706311e-01,\n",
       "       -2.87237165e-03,  1.70632862e-02,  8.20148479e-02,  6.78153696e-02,\n",
       "        5.98660015e-02, -8.19346755e-02, -8.10495729e-03,  1.87506483e-02,\n",
       "        4.59305024e-02, -1.03915786e-01, -1.93048306e-02, -1.85595766e-01,\n",
       "        2.28411547e-02, -1.54032777e-01,  5.38082510e-02, -1.75204327e-01,\n",
       "       -1.76359454e-01, -8.50306432e-02, -1.44462545e-01,  6.58026751e-02,\n",
       "        2.41970301e-01, -7.61397365e-03, -2.01982101e-02, -2.29953561e-02,\n",
       "       -1.93272821e-01,  1.33726464e-01,  1.31967828e-01,  5.74528805e-02,\n",
       "        3.21992262e-02,  7.74561167e-02, -2.32353984e-02, -1.87663537e-01,\n",
       "        1.34907689e-01,  3.85191264e-02,  2.48798706e-02,  5.37168854e-02,\n",
       "        1.00653048e-01,  7.92801537e-02, -7.05974438e-02,  9.13661876e-02,\n",
       "        5.02717168e-02,  5.35644517e-02,  1.36523974e-01,  1.24046081e-01,\n",
       "        5.50145015e-02,  7.22806692e-02, -6.20590445e-02,  1.67803160e-02,\n",
       "        6.19265643e-03,  1.57540172e-04,  7.13698941e-02,  7.88707337e-02,\n",
       "        3.08391162e-02, -2.38543364e-01, -2.38634374e-01,  1.09466885e-01,\n",
       "        9.56438682e-02, -2.71656946e-02,  2.50220039e-02, -1.01397404e-01,\n",
       "        8.09319774e-03, -3.04325934e-02, -1.25890310e-01,  1.90449612e-02,\n",
       "        1.20174248e-02, -8.38892440e-02,  1.49099077e-01, -7.97280068e-02,\n",
       "        5.15034960e-02, -3.37537716e-02, -1.64487749e-01,  3.33025104e-02,\n",
       "       -2.06986973e-02,  1.25290327e-01, -5.01704042e-02,  4.10797027e-02,\n",
       "        1.56490105e-01,  6.88379597e-02,  4.91820203e-02, -1.67822562e-01,\n",
       "        5.96743286e-02, -1.17420743e-01, -5.78010107e-02,  2.24908178e-02,\n",
       "       -1.52011771e-02,  2.18926558e-02,  1.76781015e-02, -1.46701747e-01,\n",
       "        1.93684424e-01,  1.69933516e-01, -1.41711343e-01,  7.75781685e-02,\n",
       "        9.40807502e-03,  6.47304849e-02, -1.72250262e-01,  1.69589125e-02,\n",
       "        6.12842798e-02, -9.75911256e-02, -1.99585189e-01,  5.63812184e-02,\n",
       "        2.65346127e-02,  2.51218324e-02, -9.37248742e-02,  4.16363360e-02,\n",
       "        7.95491333e-02, -1.24826802e-01, -1.52452718e-02,  1.20514437e-01,\n",
       "       -4.18330547e-02,  7.04083397e-02,  3.55662257e-02,  1.52088619e-01,\n",
       "        8.25155789e-02, -7.65253783e-02,  2.97353195e-02, -1.16510123e-01])"
      ]
     },
     "execution_count": 25,
     "metadata": {},
     "output_type": "execute_result"
    }
   ],
   "source": [
    "np.random.normal(0, 0.1, 1000)"
   ]
  },
  {
   "cell_type": "code",
   "execution_count": 26,
   "metadata": {},
   "outputs": [
    {
     "data": {
      "text/plain": [
       "(array([  2.,   3.,  39., 118., 198., 284., 225.,  96.,  30.,   5.]),\n",
       " array([-0.3913659 , -0.31935525, -0.2473446 , -0.17533395, -0.1033233 ,\n",
       "        -0.03131265,  0.04069799,  0.11270864,  0.18471929,  0.25672994,\n",
       "         0.32874059]),\n",
       " <a list of 10 Patch objects>)"
      ]
     },
     "execution_count": 26,
     "metadata": {},
     "output_type": "execute_result"
    },
    {
     "data": {
      "image/png": "[encoded data removed]",
      "text/plain": [
       "<Figure size 432x288 with 1 Axes>"
      ]
     },
     "metadata": {
      "needs_background": "light"
     },
     "output_type": "display_data"
    }
   ],
   "source": [
    "x = np.random.normal(0, 0.1, 1000)\n",
    "plt.hist(x)"
   ]
  },
  {
   "cell_type": "markdown",
   "metadata": {},
   "source": [
    "## Uniform Distribution Versus Random Distribution\n",
    "\n",
    "With uniform distribution, each number in the range is equally (\"uniformly\") likely to be picked.  Where as with Randsom Distribution, numbers close to the mean are much more likely to be picked than those far away from the mean."
   ]
  },
  {
   "cell_type": "code",
   "execution_count": null,
   "metadata": {},
   "outputs": [],
   "source": []
  }
 ],
 "metadata": {
  "kernelspec": {
   "display_name": "Python 3",
   "language": "python",
   "name": "python3"
  },
  "language_info": {
   "codemirror_mode": {
    "name": "ipython",
    "version": 3
   },
   "file_extension": ".py",
   "mimetype": "text/x-python",
   "name": "python",
   "nbconvert_exporter": "python",
   "pygments_lexer": "ipython3",
   "version": "3.6.6"
  }
 },
 "nbformat": 4,
 "nbformat_minor": 2
}
