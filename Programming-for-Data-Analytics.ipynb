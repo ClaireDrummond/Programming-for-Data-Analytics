{
 "cells": [
  {
   "cell_type": "markdown",
   "metadata": {},
   "source": [
    "# The numpy.random package"
   ]
  },
  {
   "cell_type": "markdown",
   "metadata": {},
   "source": [
    "## What is NumPy.random\n",
    "\n",
    "NumPy is the fundamental package for scientific computing with Python. It contains among other things:\n",
    "-a powerful N-dimensional array object\n",
    "-sophisticated (broadcasting) functions\n",
    "-tools for integrating C/C++ and Fortran code\n",
    "-useful linear algebra, Fourier transform, and random number capabilities\n",
    "\n",
    "Besides its obvious scientific uses, NumPy can also be used as an efficient multi-dimensional container of generic data. Arbitrary data-types can be defined. This allows NumPy to seamlessly and speedily integrate with a wide variety of databases. (http://www.numpy.org/)\n",
    "\n",
    "Numpy is bascially a maths library for python. Not only does it make basic computation easy, it also enables you to perform complex maths problems.  Numpy is an important package as so many other packages depend on it.  However interacting with it directly is not that common as you typically interact with NumPy through the use of other packages such as Panda's, SciPy.\n",
    "\n",
    "The NumPy.random package is a sub package of the Numpy package in Python.  The NumPy.random pakcage generates random numbers in Python. A computer can't generate random numbers.  It generates pseudorandom numbers, but for this exercise when I talk about random numbers please take it that I mean psuedo random numbers. There are lots of ways to generate different types of random numbers.  This is exactly what NumPy.random does."
   ]
  },
  {
   "cell_type": "markdown",
   "metadata": {},
   "source": [
    "# Simple Random Data & Permutations Functions \n",
    "\n",
    "## Simple Random Data\n",
    "If you want to generate random data for everyday purposes, you will find functions here to do that for you. With the functions in Simple Random Data, there are assumptions that are based on certain functions in 'Distributions'. Within 'Distributions' there are many functions that are all related to different probability distributions.  The best way to show the difference between the distributions is with a plot.\n",
    "\n",
    "\n",
    "## Permutations\n",
    "There are two functions here, shuffle and permutation.  Shuffle changes a Numpy array in place where as Permutation doesn't change what you pass into it."
   ]
  },
  {
   "cell_type": "markdown",
   "metadata": {},
   "source": [
    "# Simple Random Data - Rand Function"
   ]
  },
  {
   "cell_type": "code",
   "execution_count": 2,
   "metadata": {},
   "outputs": [
    {
     "data": {
      "text/plain": [
       "array([[0.41976467, 0.89833722],\n",
       "       [0.54299444, 0.75725003],\n",
       "       [0.75410748, 0.34856992]])"
      ]
     },
     "execution_count": 2,
     "metadata": {},
     "output_type": "execute_result"
    }
   ],
   "source": [
    "import numpy as np #importing the numpy package and renaming it as np\n",
    "np.random.rand(3,2) #here you get an array with 3 rows, 2 columns.  Each time you run the function, you get different numbers"
   ]
  },
  {
   "cell_type": "code",
   "execution_count": 3,
   "metadata": {},
   "outputs": [
    {
     "data": {
      "text/plain": [
       "array([[0.24484165, 0.12182817, 0.95375432, 0.4577872 , 0.7084688 ,\n",
       "        0.28212534],\n",
       "       [0.65952591, 0.19824524, 0.62667407, 0.99065739, 0.01758034,\n",
       "        0.92052702],\n",
       "       [0.32382495, 0.09574409, 0.84151682, 0.63297694, 0.12728938,\n",
       "        0.69482826],\n",
       "       [0.0337818 , 0.80274077, 0.17895803, 0.79911697, 0.86474136,\n",
       "        0.97152592]])"
      ]
     },
     "execution_count": 3,
     "metadata": {},
     "output_type": "execute_result"
    }
   ],
   "source": [
    "np.random.rand(4,6) #here you get an array with 4 rows, 6 columns"
   ]
  },
  {
   "cell_type": "code",
   "execution_count": 4,
   "metadata": {},
   "outputs": [
    {
     "data": {
      "text/plain": [
       "array([0.31601025, 0.47709327, 0.50826835])"
      ]
     },
     "execution_count": 4,
     "metadata": {},
     "output_type": "execute_result"
    }
   ],
   "source": [
    "np.random.rand(3) #()shows the shape of the array"
   ]
  },
  {
   "cell_type": "code",
   "execution_count": 5,
   "metadata": {},
   "outputs": [
    {
     "data": {
      "text/plain": [
       "(array([1030., 1030.,  965., 1013.,  983.,  981., 1016.,  964., 1062.,\n",
       "         956.]),\n",
       " array([5.15071234e-06, 9.99996990e-02, 1.99994247e-01, 2.99988795e-01,\n",
       "        3.99983344e-01, 4.99977892e-01, 5.99972440e-01, 6.99966988e-01,\n",
       "        7.99961537e-01, 8.99956085e-01, 9.99950633e-01]),\n",
       " <a list of 10 Patch objects>)"
      ]
     },
     "execution_count": 5,
     "metadata": {},
     "output_type": "execute_result"
    },
    {
     "data": {
      "image/png": "[encoded data removed]",
      "text/plain": [
       "<Figure size 432x288 with 1 Axes>"
      ]
     },
     "metadata": {
      "needs_background": "light"
     },
     "output_type": "display_data"
    }
   ],
   "source": [
    "%matplotlib inline\n",
    "\n",
    "import matplotlib.pyplot as plt\n",
    "\n",
    "\n",
    "x = np.random.rand(10000)\n",
    "plt.hist(x)"
   ]
  },
  {
   "cell_type": "markdown",
   "metadata": {},
   "source": [
    "# Simple Random Data - random_sample Function"
   ]
  },
  {
   "cell_type": "code",
   "execution_count": 6,
   "metadata": {},
   "outputs": [
    {
     "data": {
      "text/plain": [
       "0.5479598384717794"
      ]
     },
     "execution_count": 6,
     "metadata": {},
     "output_type": "execute_result"
    }
   ],
   "source": [
    "np.random.random_sample() #Return random floats in the half-open interval [0.0, 1.0). \n",
    "#Results are from the “continuous uniform” distribution over the stated interval"
   ]
  },
  {
   "cell_type": "code",
   "execution_count": 7,
   "metadata": {},
   "outputs": [
    {
     "data": {
      "text/plain": [
       "array([0.05845969, 0.30898743, 0.93020216, 0.98602257, 0.31505914])"
      ]
     },
     "execution_count": 7,
     "metadata": {},
     "output_type": "execute_result"
    }
   ],
   "source": [
    "np.random.random_sample((5,))"
   ]
  },
  {
   "cell_type": "markdown",
   "metadata": {},
   "source": [
    "# Simple Random Data - random.choice\n",
    "\n",
    "Generates a random sample from a given 1-D array"
   ]
  },
  {
   "cell_type": "code",
   "execution_count": 8,
   "metadata": {},
   "outputs": [
    {
     "data": {
      "text/plain": [
       "array([1, 1, 4])"
      ]
     },
     "execution_count": 8,
     "metadata": {},
     "output_type": "execute_result"
    }
   ],
   "source": [
    " np.random.choice(5, 3)"
   ]
  },
  {
   "cell_type": "code",
   "execution_count": 9,
   "metadata": {},
   "outputs": [
    {
     "data": {
      "text/plain": [
       "array([1, 2, 3, 3])"
      ]
     },
     "execution_count": 9,
     "metadata": {},
     "output_type": "execute_result"
    }
   ],
   "source": [
    "np.random.choice(6, 4)"
   ]
  },
  {
   "cell_type": "code",
   "execution_count": 10,
   "metadata": {},
   "outputs": [
    {
     "data": {
      "text/plain": [
       "array([1])"
      ]
     },
     "execution_count": 10,
     "metadata": {},
     "output_type": "execute_result"
    }
   ],
   "source": [
    "np.random.choice(3, 1)"
   ]
  },
  {
   "cell_type": "code",
   "execution_count": 11,
   "metadata": {},
   "outputs": [
    {
     "data": {
      "text/plain": [
       "(4, 3)"
      ]
     },
     "execution_count": 11,
     "metadata": {},
     "output_type": "execute_result"
    }
   ],
   "source": [
    "x = [(1,2),(4,3),(6,9)]\n",
    "x[np.random.choice(len(x))]"
   ]
  },
  {
   "cell_type": "code",
   "execution_count": 12,
   "metadata": {},
   "outputs": [
    {
     "data": {
      "text/plain": [
       "(4, 3)"
      ]
     },
     "execution_count": 12,
     "metadata": {},
     "output_type": "execute_result"
    }
   ],
   "source": [
    "x[np.random.choice(len(x))]"
   ]
  },
  {
   "cell_type": "markdown",
   "metadata": {},
   "source": [
    "# Permutations - Shuffle\n",
    "\n",
    "Modifies a sequence in-place by shuffling its contents.  This function only shuffles the array along the first axis of a multi-dimensional array. The order of sub-arrays is changed but their contents remains the same"
   ]
  },
  {
   "cell_type": "code",
   "execution_count": 13,
   "metadata": {},
   "outputs": [
    {
     "data": {
      "text/plain": [
       "array([8, 4, 7, 3, 1, 0, 9, 6, 2, 5])"
      ]
     },
     "execution_count": 13,
     "metadata": {},
     "output_type": "execute_result"
    }
   ],
   "source": [
    "arr = np.arange(10)\n",
    "np.random.shuffle(arr)\n",
    "arr"
   ]
  },
  {
   "cell_type": "code",
   "execution_count": 14,
   "metadata": {},
   "outputs": [
    {
     "data": {
      "text/plain": [
       "array([[3, 4, 5],\n",
       "       [0, 1, 2],\n",
       "       [6, 7, 8]])"
      ]
     },
     "execution_count": 14,
     "metadata": {},
     "output_type": "execute_result"
    }
   ],
   "source": [
    "arr = np.arange(9).reshape((3, 3))\n",
    "np.random.shuffle(arr)\n",
    "arr"
   ]
  },
  {
   "cell_type": "code",
   "execution_count": 15,
   "metadata": {},
   "outputs": [
    {
     "data": {
      "text/plain": [
       "array([[2],\n",
       "       [1],\n",
       "       [7],\n",
       "       [3],\n",
       "       [4],\n",
       "       [6],\n",
       "       [8],\n",
       "       [0],\n",
       "       [5]])"
      ]
     },
     "execution_count": 15,
     "metadata": {},
     "output_type": "execute_result"
    }
   ],
   "source": [
    "arr = np.arange(9).reshape((9,1))\n",
    "np.random.shuffle(arr)\n",
    "arr"
   ]
  },
  {
   "cell_type": "markdown",
   "metadata": {},
   "source": [
    "# Permutations - Permutation\n",
    "\n",
    "Randomly permute a sequence, or return a permuted range.  If x is a multi-dimensional array, it is only shuffled along its first index"
   ]
  },
  {
   "cell_type": "code",
   "execution_count": 16,
   "metadata": {},
   "outputs": [
    {
     "data": {
      "text/plain": [
       "array([0, 8, 3, 6, 5, 9, 2, 4, 1, 7])"
      ]
     },
     "execution_count": 16,
     "metadata": {},
     "output_type": "execute_result"
    }
   ],
   "source": [
    " np.random.permutation(10)"
   ]
  },
  {
   "cell_type": "code",
   "execution_count": 17,
   "metadata": {},
   "outputs": [
    {
     "data": {
      "text/plain": [
       "array([15,  9,  1, 12,  4])"
      ]
     },
     "execution_count": 17,
     "metadata": {},
     "output_type": "execute_result"
    }
   ],
   "source": [
    " np.random.permutation([1, 4, 9, 12, 15])"
   ]
  },
  {
   "cell_type": "code",
   "execution_count": 18,
   "metadata": {},
   "outputs": [
    {
     "data": {
      "text/plain": [
       "array([[6, 7, 8],\n",
       "       [0, 1, 2],\n",
       "       [3, 4, 5]])"
      ]
     },
     "execution_count": 18,
     "metadata": {},
     "output_type": "execute_result"
    }
   ],
   "source": [
    "arr = np.arange(9).reshape((3, 3))\n",
    "np.random.permutation(arr)\n"
   ]
  },
  {
   "cell_type": "markdown",
   "metadata": {},
   "source": [
    "# Distributions"
   ]
  },
  {
   "cell_type": "code",
   "execution_count": 19,
   "metadata": {},
   "outputs": [
    {
     "data": {
      "text/plain": [
       "array([-0.31402643, -0.06188846, -0.4539256 , -0.94662354, -0.06073303,\n",
       "       -0.25454639, -0.4765594 , -0.20875698, -0.08832025, -0.90831318,\n",
       "       -0.93789995, -0.10762542, -0.81844238, -0.28574115, -0.45888548,\n",
       "       -0.73348219, -0.48790884, -0.22391196, -0.29456645, -0.85686527,\n",
       "       -0.75458905, -0.15689426, -0.95531484, -0.12366262, -0.37711431,\n",
       "       -0.30033285, -0.061001  , -0.86943188, -0.87312932, -0.00410954,\n",
       "       -0.30850201, -0.03458422, -0.54003325, -0.13527751, -0.12142133,\n",
       "       -0.03232748, -0.92247174, -0.82604903, -0.65594408, -0.92200861,\n",
       "       -0.25416602, -0.43645671, -0.52158051, -0.92914834, -0.34249046,\n",
       "       -0.38510208, -0.94493786, -0.00194022, -0.50063273, -0.96297296,\n",
       "       -0.24813313, -0.16895341, -0.32663905, -0.7469521 , -0.75700789,\n",
       "       -0.47729205, -0.7786045 , -0.20145878, -0.52104738, -0.92144385,\n",
       "       -0.33567491, -0.52863079, -0.80727216, -0.10787936, -0.62935534,\n",
       "       -0.54165209, -0.87274505, -0.9127971 , -0.16145401, -0.8973925 ,\n",
       "       -0.03148167, -0.76088449, -0.0883229 , -0.38734766, -0.33321657,\n",
       "       -0.73623344, -0.56450774, -0.8627915 , -0.57532525, -0.31836297,\n",
       "       -0.95920142, -0.52863424, -0.31660456, -0.41936287, -0.16990413,\n",
       "       -0.19690504, -0.00520922, -0.84524896, -0.56549336, -0.91118768,\n",
       "       -0.34872323, -0.33276694, -0.01073681, -0.21992881, -0.91914636,\n",
       "       -0.6734572 , -0.30458541, -0.88805035, -0.28463554, -0.03502552])"
      ]
     },
     "execution_count": 19,
     "metadata": {},
     "output_type": "execute_result"
    }
   ],
   "source": [
    "np.random.uniform(-1, 0, 100)"
   ]
  },
  {
   "cell_type": "code",
   "execution_count": 20,
   "metadata": {},
   "outputs": [
    {
     "data": {
      "text/plain": [
       "array([-0.4258649 , -0.51514572, -0.21109202, -0.56364773, -0.86664235,\n",
       "       -0.68745622, -0.06103116, -0.62638069, -0.74146052, -0.74842999])"
      ]
     },
     "execution_count": 20,
     "metadata": {},
     "output_type": "execute_result"
    }
   ],
   "source": [
    "np.random.uniform(-1, 0, 10)"
   ]
  },
  {
   "cell_type": "code",
   "execution_count": 21,
   "metadata": {},
   "outputs": [
    {
     "data": {
      "text/plain": [
       "array([2.36846389, 2.88670167, 2.31990062, 2.84033267, 2.18723148,\n",
       "       2.7948855 , 2.05723659, 2.09072133, 2.73628825, 2.82130149])"
      ]
     },
     "execution_count": 21,
     "metadata": {},
     "output_type": "execute_result"
    }
   ],
   "source": [
    "np.random.uniform(2, 3, 10)"
   ]
  },
  {
   "cell_type": "code",
   "execution_count": 22,
   "metadata": {},
   "outputs": [
    {
     "data": {
      "text/plain": [
       "(array([1017.,  995.,  999.,  988., 1013., 1019.,  963., 1018.,  989.,\n",
       "         999.]),\n",
       " array([5.34569860e-02, 1.00045322e+02, 2.00037187e+02, 3.00029053e+02,\n",
       "        4.00020918e+02, 5.00012783e+02, 6.00004648e+02, 6.99996514e+02,\n",
       "        7.99988379e+02, 8.99980244e+02, 9.99972109e+02]),\n",
       " <a list of 10 Patch objects>)"
      ]
     },
     "execution_count": 22,
     "metadata": {},
     "output_type": "execute_result"
    },
    {
     "data": {
      "image/png": "[encoded data removed]",
      "text/plain": [
       "<Figure size 432x288 with 1 Axes>"
      ]
     },
     "metadata": {
      "needs_background": "light"
     },
     "output_type": "display_data"
    }
   ],
   "source": [
    "%matplotlib inline\n",
    "\n",
    "import matplotlib.pyplot as plt\n",
    "\n",
    "x = np.random.uniform(0, 1000, 10000)\n",
    "plt.hist(x)"
   ]
  },
  {
   "cell_type": "code",
   "execution_count": 23,
   "metadata": {},
   "outputs": [
    {
     "data": {
      "text/plain": [
       "array([-8.82059005e-02, -6.31008274e-02,  1.23927048e-01, -3.98009204e-02,\n",
       "        2.46168506e-01, -4.35844408e-02, -1.85854380e-01, -1.17235291e-02,\n",
       "       -3.42712783e-02, -3.91892070e-02,  8.21405423e-02, -8.35646034e-02,\n",
       "        1.51512716e-01,  3.64592470e-02, -2.41305311e-02,  2.26495162e-02,\n",
       "       -2.07045970e-01,  3.62464099e-03, -1.49132349e-01,  4.56447232e-02,\n",
       "       -2.00285619e-01, -3.70597615e-03, -1.47898565e-01, -7.34284818e-02,\n",
       "       -4.47549615e-02, -1.04596870e-01,  5.29508265e-02, -1.67548079e-03,\n",
       "       -7.87319387e-02, -8.96475806e-02, -2.77755991e-02,  7.46404506e-02,\n",
       "        1.76706394e-02,  1.26064128e-01, -3.71985202e-04,  1.03438333e-01,\n",
       "       -2.10682094e-01, -3.81999360e-02,  2.39878965e-02, -1.32665143e-01,\n",
       "       -1.05668575e-01,  6.04866328e-03,  2.73821981e-01, -1.16596899e-01,\n",
       "        1.30959613e-01,  5.48035965e-02, -1.03333898e-01, -4.61335048e-02,\n",
       "       -6.83224458e-03, -9.11960068e-02,  4.79783734e-02,  9.17694828e-03,\n",
       "        4.65602627e-02,  1.42343667e-01,  8.30101027e-02, -9.46661193e-02,\n",
       "       -1.53688533e-01,  1.89534949e-01, -1.01722595e-01,  1.38965469e-01,\n",
       "       -1.58826134e-02, -6.88966989e-02,  1.61060009e-01,  1.83544839e-02,\n",
       "       -2.55398080e-02, -1.26919326e-02,  8.43259353e-03,  5.20205877e-02,\n",
       "       -9.85334673e-02,  1.67007423e-01, -4.17497362e-02, -7.38026705e-02,\n",
       "        1.33981030e-01, -4.25091531e-02, -7.69051479e-03,  2.37223145e-02,\n",
       "        3.60339117e-03, -3.82040380e-02, -1.86208907e-02, -1.12182663e-03,\n",
       "       -1.84533570e-02,  7.70525895e-02,  1.23721402e-01, -5.36554553e-02,\n",
       "        6.34771973e-02,  7.35123006e-02, -7.50355998e-02,  9.47861413e-03,\n",
       "       -2.67529732e-02, -1.75017724e-02,  8.52523157e-02,  9.48189044e-02,\n",
       "       -2.70189092e-02, -2.19107123e-02,  4.04071745e-03, -6.37412154e-02,\n",
       "       -1.33897484e-02,  6.21317647e-02,  1.64194490e-01,  1.69811384e-01,\n",
       "       -2.07653194e-02,  2.57953545e-01,  9.17213413e-02,  9.12815465e-02,\n",
       "        2.84692642e-02, -2.78813880e-02, -1.35239261e-01,  7.08679839e-02,\n",
       "        1.68087287e-01,  1.61511565e-01, -4.00090965e-02,  1.17533035e-01,\n",
       "       -3.95974209e-02, -2.34160864e-02,  2.66595445e-01, -1.09081205e-01,\n",
       "       -4.06941077e-02,  2.14211844e-01, -9.78793960e-02, -6.93753604e-02,\n",
       "       -1.52817878e-01, -5.42334712e-03,  3.72394198e-02,  4.06180824e-02,\n",
       "        1.27852934e-01, -1.33580663e-01, -2.19470321e-02,  1.16278746e-01,\n",
       "       -9.04664515e-02,  7.30338876e-02,  9.85196962e-02, -3.73322656e-02,\n",
       "       -4.47006635e-02,  4.43981256e-02, -1.41071872e-03, -1.38879821e-01,\n",
       "        4.27120857e-02, -2.02301687e-01, -1.00821323e-01, -3.47669659e-02,\n",
       "       -2.69624588e-02, -6.00121446e-02, -2.53109772e-01, -1.47664312e-01,\n",
       "       -3.76174197e-03,  9.26944694e-02,  8.07768349e-02,  1.98580033e-02,\n",
       "       -1.57138451e-01, -7.31663348e-02, -2.48927170e-01,  6.38498908e-02,\n",
       "        1.13726574e-01, -7.70770771e-02,  8.77656834e-02,  3.00894318e-01,\n",
       "       -1.88316380e-01, -7.03952282e-02, -3.43998149e-02,  2.06996027e-02,\n",
       "       -1.25979824e-01,  1.14319830e-01,  5.71071672e-02,  1.43713345e-01,\n",
       "        1.03936920e-02, -1.28570395e-01,  1.52942689e-01,  5.46731514e-02,\n",
       "       -2.06344352e-01,  9.16863807e-02, -4.68022130e-03, -1.01424601e-01,\n",
       "       -8.71349855e-02,  1.28383599e-01,  7.09738416e-02,  2.13917202e-02,\n",
       "       -5.91672467e-02, -8.18224787e-03, -1.22865004e-01, -2.57882225e-02,\n",
       "        1.74123794e-01, -2.87808543e-02,  3.27296783e-01, -7.99961771e-02,\n",
       "       -5.14900468e-02, -2.30747353e-02,  1.27090050e-01,  1.60627961e-01,\n",
       "       -8.34815240e-02,  2.20980760e-02,  8.04423781e-02,  9.56599066e-02,\n",
       "       -4.47911905e-02, -1.38915530e-01,  1.12385143e-01,  9.68350129e-03,\n",
       "       -3.66112449e-02,  8.63524814e-02,  7.50109217e-03,  7.03193817e-02,\n",
       "       -1.26503094e-01, -3.30696176e-02, -5.54906850e-02, -1.02020074e-01,\n",
       "        2.88303986e-02,  5.62642522e-02,  3.08134703e-02, -1.03771381e-01,\n",
       "       -1.58806319e-03,  7.40045923e-02, -5.84237249e-02, -4.92228001e-02,\n",
       "       -1.86954609e-01,  4.17998813e-02,  8.96040304e-02,  6.20175812e-02,\n",
       "        3.82155390e-02,  4.85287426e-02, -6.29247139e-02, -2.20067877e-01,\n",
       "        1.58195395e-02, -1.26401040e-01,  7.60896838e-02,  5.73400462e-02,\n",
       "       -5.97141710e-02,  1.23770880e-01,  3.40776727e-02, -3.03680685e-03,\n",
       "        1.22664827e-01, -7.97516990e-02, -1.03383641e-01, -2.07316591e-01,\n",
       "       -1.58182938e-01, -1.23672609e-01,  1.17642817e-01,  1.06505856e-01,\n",
       "        1.59258671e-01, -5.98486230e-02, -1.33732324e-01, -9.35665654e-02,\n",
       "       -1.03324582e-01, -2.21297797e-01,  8.54373439e-02,  1.82537493e-01,\n",
       "        1.41593366e-01, -3.24010336e-02,  1.33757800e-01,  1.27704895e-01,\n",
       "        1.65648906e-01, -1.40710962e-01,  1.43109348e-01, -4.19920885e-02,\n",
       "       -1.10636598e-01,  1.57187360e-01, -1.06746967e-01, -3.55342536e-02,\n",
       "        8.78333345e-02,  1.43923196e-02,  1.14269795e-01, -9.10824031e-02,\n",
       "        2.42427126e-01,  3.90175169e-02,  3.75402441e-04, -2.22848195e-01,\n",
       "        7.46842867e-02,  1.83493537e-02, -1.26372889e-01,  9.61416552e-02,\n",
       "       -8.03793919e-02, -5.04993473e-02,  6.36622828e-02, -7.15467742e-02,\n",
       "        3.97107697e-02, -6.49275221e-02,  1.04387976e-01, -1.63260087e-01,\n",
       "        1.24715334e-01, -4.08701225e-02, -9.13961794e-02,  8.98922417e-02,\n",
       "       -1.20505906e-01, -8.39373094e-02, -5.95165401e-02,  1.74844477e-02,\n",
       "       -7.65188765e-03, -1.43724262e-01,  2.81931174e-02, -5.00270163e-02,\n",
       "       -1.77820394e-01, -7.31036613e-02,  9.89648425e-03, -9.31474560e-02,\n",
       "       -1.66830420e-02, -2.45954050e-02, -1.74034473e-01, -5.57006843e-02,\n",
       "       -6.24880733e-02,  2.82693644e-02,  1.40826634e-01,  9.12057418e-02,\n",
       "        5.87763487e-02,  1.15880030e-01, -1.57787415e-02,  1.02736715e-01,\n",
       "        1.68091587e-02, -2.48753148e-02,  7.92620811e-02,  3.01794487e-02,\n",
       "       -1.68425535e-01, -1.89274834e-02, -2.14691546e-01, -2.00953673e-02,\n",
       "       -5.91520759e-02,  2.14008501e-02, -7.32057161e-03, -1.46557208e-01,\n",
       "       -1.47796742e-01,  5.91486992e-03, -3.66563596e-02,  7.75494142e-03,\n",
       "       -1.60086362e-01,  1.41360040e-01,  3.67131031e-02,  1.26173051e-01,\n",
       "        4.90865718e-02, -3.42503300e-02,  1.55362158e-02,  3.49890826e-02,\n",
       "        1.38549316e-01, -2.18688916e-02, -4.04628519e-02, -8.32084948e-02,\n",
       "        2.02139461e-02,  9.89911122e-02,  1.26054250e-01,  2.98101160e-02,\n",
       "       -5.18218877e-02, -2.21613775e-03,  2.64881936e-02,  5.39334888e-02,\n",
       "       -1.19875964e-01,  2.88644693e-01,  2.45038424e-02, -1.78498353e-01,\n",
       "       -2.52743652e-02, -5.10854456e-02, -3.03888820e-02, -1.32839784e-02,\n",
       "        1.52564704e-01,  2.00466560e-01,  8.49988795e-02, -7.80350805e-05,\n",
       "        4.84769493e-02,  1.16008853e-02, -5.16709844e-02,  1.48762442e-01,\n",
       "       -1.33608833e-01, -2.10313231e-02, -2.73701337e-03,  8.81277517e-02,\n",
       "       -3.49819998e-02, -6.98627492e-02,  3.06603187e-02,  2.60214448e-03,\n",
       "        6.30186849e-02,  7.61648003e-02, -8.95851991e-02, -1.25774760e-01,\n",
       "       -1.56554482e-02, -2.12786358e-02, -1.22252222e-01, -2.08241675e-01,\n",
       "       -1.19450460e-01, -1.74739067e-01, -1.86185225e-01, -1.88220065e-01,\n",
       "       -6.16453151e-02,  1.41919683e-02,  1.08939483e-01, -7.64508436e-02,\n",
       "       -2.06188419e-01, -6.35194539e-02,  1.09365711e-01,  1.23542013e-01,\n",
       "        1.57328803e-01,  2.00043185e-01, -1.08736081e-01,  1.67838728e-01,\n",
       "        2.48156062e-01, -7.82826914e-02, -4.89003423e-02, -6.64094027e-03,\n",
       "       -6.73884443e-02,  1.65805883e-01,  1.12212459e-02,  7.32128391e-02,\n",
       "       -1.50683966e-02,  1.05924146e-01,  8.32980193e-02, -8.13900737e-02,\n",
       "       -1.43078268e-02,  1.08295454e-01, -1.21734388e-03,  1.20978786e-01,\n",
       "       -1.22151356e-01, -1.35460451e-01, -1.46438294e-01,  1.37743332e-01,\n",
       "       -4.02277527e-03,  8.90643062e-02,  1.61113904e-01, -1.97260542e-01,\n",
       "       -2.02339031e-01,  8.97487969e-02, -5.83633524e-02,  7.19653264e-02,\n",
       "       -7.39827325e-02, -1.95060133e-02,  9.82556362e-03,  1.10757189e-01,\n",
       "       -1.78239442e-02,  1.03476273e-01, -5.50718123e-02, -1.19788251e-01,\n",
       "        1.31479844e-01, -1.24198915e-01, -1.19557665e-01,  9.84168667e-02,\n",
       "        6.67755737e-02,  9.50257125e-02,  3.15781372e-02, -1.61561662e-02,\n",
       "        2.65122273e-02,  1.55362344e-01,  1.20448792e-01,  1.26480613e-01,\n",
       "        5.04051949e-02,  8.16986044e-02,  1.27274911e-01, -1.38923638e-01,\n",
       "       -1.83100674e-03,  6.32061190e-02, -3.43805383e-02, -5.38455613e-02,\n",
       "       -7.34646643e-02,  2.30519500e-02, -1.53552350e-01, -1.75754042e-02,\n",
       "       -1.34056600e-01,  8.03625107e-02,  4.00442505e-02,  3.58307690e-02,\n",
       "        8.35932481e-02,  1.78315468e-02, -8.83957620e-02, -1.48130404e-01,\n",
       "        3.14396048e-02, -3.67413181e-02,  7.42618982e-02,  5.17571579e-02,\n",
       "        1.00279190e-01, -1.13117683e-01,  2.50143162e-02,  5.72668163e-02,\n",
       "       -2.55906416e-02, -2.06765012e-03,  1.04592907e-01,  1.24047216e-02,\n",
       "       -7.09555277e-02, -1.19290677e-02,  2.76619348e-02, -3.24304887e-02,\n",
       "        1.25436760e-01,  1.77594142e-02, -2.09283029e-02, -8.49178001e-02,\n",
       "       -9.86274316e-02, -5.10710981e-02, -3.11688123e-01, -1.62692008e-01,\n",
       "       -1.91961775e-02,  9.60096304e-04, -5.86951563e-02,  3.89106274e-02,\n",
       "        5.11303956e-02,  9.05822573e-02, -1.07971343e-01, -8.48380048e-02,\n",
       "        5.58189370e-02,  5.96348930e-02, -4.60359042e-02,  1.08483096e-01,\n",
       "       -6.22565555e-02, -3.42465024e-02,  1.44712094e-01, -1.30233742e-02,\n",
       "        1.76541813e-02,  6.01781383e-02, -1.90231930e-01,  2.08452609e-01,\n",
       "       -4.86476240e-02,  9.88237405e-02, -2.27565460e-02,  5.91410546e-02,\n",
       "       -2.27742136e-02, -1.18472700e-01, -1.38895210e-01, -2.01738485e-02,\n",
       "        1.15490505e-01,  6.79135557e-02,  3.99288706e-02, -5.85648035e-02,\n",
       "       -1.64943902e-01,  4.52865572e-02, -6.45812286e-02, -1.08350432e-01,\n",
       "       -2.26555781e-01,  3.06145309e-02,  3.28025063e-02, -7.73289643e-02,\n",
       "       -1.91058992e-01,  1.97161489e-02,  2.02122037e-02, -5.21851893e-03,\n",
       "       -2.73903557e-02, -4.39438383e-02, -6.58560088e-02, -1.04756617e-01,\n",
       "       -3.71370084e-03, -1.49889183e-01, -1.31522771e-01, -1.63636308e-01,\n",
       "       -4.67628263e-02, -3.72873048e-02,  1.66662227e-01,  5.31212280e-02,\n",
       "        1.47333596e-01, -1.28941462e-01, -4.94105264e-02, -1.01203574e-01,\n",
       "       -6.61576438e-02, -3.15934811e-02, -1.43068463e-01, -1.07768236e-02,\n",
       "       -1.23647610e-01, -1.07729772e-01, -2.86578184e-02, -1.39169813e-01,\n",
       "        2.76418257e-02,  1.18189469e-02, -1.27993174e-01,  1.18578051e-01,\n",
       "       -5.02343703e-02,  6.96251128e-02,  9.24354308e-02,  1.05996704e-01,\n",
       "       -9.40260172e-03, -1.00157094e-01, -1.56105610e-01,  1.65219905e-01,\n",
       "       -7.76327222e-03,  1.79112388e-01,  5.25620881e-02,  1.24603602e-01,\n",
       "       -1.33030174e-01,  5.46176423e-02,  2.41472427e-02, -2.93997889e-02,\n",
       "       -2.27269877e-02, -8.47762481e-02, -8.43612757e-02,  1.00489296e-01,\n",
       "       -1.37700920e-01,  1.06323528e-01, -8.45376178e-02,  1.22848305e-01,\n",
       "       -8.77446731e-02,  2.26264573e-02,  1.63751573e-01,  3.53631115e-02,\n",
       "        2.70577781e-02, -8.20649238e-02,  4.55075609e-02,  6.60337791e-03,\n",
       "       -7.12854130e-02, -3.64257536e-02,  3.69501090e-02,  1.66556031e-01,\n",
       "        4.93732333e-02, -2.68803087e-02, -9.03605155e-02, -5.52642482e-02,\n",
       "       -8.14033427e-02,  2.17479730e-02,  5.38978726e-02, -1.79107113e-01,\n",
       "       -4.98204936e-02, -3.54251648e-02,  5.01940172e-02, -2.27960244e-01,\n",
       "       -1.43005148e-01,  2.83890931e-02,  2.33205051e-02,  9.99387695e-02,\n",
       "       -7.02453189e-02, -6.68760778e-02,  5.39239019e-02, -5.38018742e-02,\n",
       "        4.38343764e-02,  1.24057412e-01, -6.06175897e-02,  7.99548511e-03,\n",
       "        3.72945065e-02, -1.07272485e-01,  5.17490199e-02, -1.61328255e-01,\n",
       "        6.12226879e-02,  7.73979790e-02, -1.24854086e-01, -2.92076356e-02,\n",
       "        2.37762194e-02,  1.20312982e-01, -1.85301946e-01,  2.61637292e-02,\n",
       "        9.83214639e-02, -1.39741841e-01,  7.07639401e-02, -2.30401573e-02,\n",
       "       -1.45448606e-01, -6.83245169e-02,  6.41704466e-02,  3.70589911e-02,\n",
       "        7.68787266e-02,  1.36439233e-01, -9.11038397e-02, -1.85004660e-01,\n",
       "        3.23498148e-02, -1.84386044e-02, -3.37186643e-02,  9.69086856e-02,\n",
       "        3.36974159e-03, -1.25538547e-01,  1.64209058e-01,  6.30245422e-02,\n",
       "        5.64111159e-02, -1.00275927e-01, -1.51097300e-01, -2.19357775e-02,\n",
       "        8.01534298e-02,  6.78932994e-02, -1.58243201e-02, -4.54666709e-02,\n",
       "       -1.14525449e-01,  4.86429141e-02,  2.96292206e-02, -3.33673570e-02,\n",
       "       -5.56723865e-02, -4.47469450e-02, -7.57568478e-02, -5.59207445e-02,\n",
       "       -4.43816529e-02,  1.22424693e-01, -1.36742949e-01, -7.60676699e-02,\n",
       "        1.21398337e-01,  1.04239952e-01,  3.10621340e-02, -1.30433734e-01,\n",
       "       -5.01524774e-02,  6.27324636e-02,  7.13252934e-02,  2.45341972e-02,\n",
       "        1.91286243e-02, -3.02954509e-02,  7.30211776e-02,  3.88665644e-02,\n",
       "       -2.00332334e-03, -7.53931572e-02, -3.58282288e-02,  1.43472362e-01,\n",
       "       -1.65530454e-02,  2.98277379e-02, -3.97918580e-03,  3.20778148e-02,\n",
       "        1.12832607e-01, -4.43790202e-02, -1.85426579e-01,  8.25082702e-02,\n",
       "        1.10793965e-01, -1.89231465e-01, -1.16987856e-01, -1.62141162e-01,\n",
       "       -1.25917913e-01, -6.00487494e-02, -5.69125703e-02, -1.54771843e-01,\n",
       "        5.33862894e-02, -1.19409274e-01, -1.28006428e-02,  8.04694575e-02,\n",
       "        1.12443786e-01,  3.76325258e-02,  2.07952541e-02, -7.91032483e-02,\n",
       "       -9.18946165e-02, -9.68348243e-03, -8.29367541e-02, -5.68713228e-02,\n",
       "        7.95215183e-02,  1.04336885e-02, -3.35484738e-02, -1.30971747e-01,\n",
       "        1.09899879e-04, -1.34582036e-01, -7.98476564e-02, -8.80856901e-02,\n",
       "        1.71415388e-01, -9.38974581e-02,  4.70620819e-02, -4.15793970e-02,\n",
       "       -2.31058116e-02,  1.65071312e-01,  9.76515248e-02, -7.25771946e-02,\n",
       "       -1.80021665e-02, -2.67591520e-03, -5.67145200e-02, -7.33637325e-02,\n",
       "        3.25234228e-02, -1.55906645e-02,  9.00449144e-02,  2.18015055e-02,\n",
       "       -3.88866896e-02,  4.19626507e-02, -6.15997558e-02,  1.67458585e-01,\n",
       "       -1.92285935e-02,  3.50107409e-01, -1.08573777e-01, -6.24706152e-02,\n",
       "       -6.76526518e-02,  7.40636996e-02, -2.78908676e-02, -6.68245626e-02,\n",
       "       -2.11106636e-01,  3.21476363e-03, -1.00241188e-01,  1.62598685e-03,\n",
       "       -2.26396046e-01,  3.32363378e-02, -2.19563025e-01,  4.82006206e-03,\n",
       "        1.02568314e-02,  3.97541297e-02,  2.63747887e-02, -5.54727432e-02,\n",
       "       -7.78781494e-02,  2.54088788e-02, -6.06833233e-02,  3.50506535e-02,\n",
       "       -2.22828955e-01,  6.88478112e-02, -4.77876687e-02, -1.02557949e-01,\n",
       "        8.65931331e-02, -9.66050894e-02, -6.55953486e-03, -5.76050672e-02,\n",
       "        6.04729908e-02, -1.83234833e-01, -1.88581536e-01, -6.93959686e-02,\n",
       "        9.49119027e-02,  1.63116361e-02, -1.33112640e-02,  1.23617078e-02,\n",
       "        1.15658602e-01, -1.07195922e-01, -1.20030013e-01,  9.78144403e-02,\n",
       "       -1.01349983e-01,  2.64308138e-01,  2.73798353e-02,  2.29159917e-02,\n",
       "        7.50654925e-02, -1.46713727e-01, -6.68506226e-02, -1.68752343e-02,\n",
       "       -2.07639068e-02,  8.14727912e-02, -1.49570106e-01, -2.86045121e-02,\n",
       "        1.72158503e-01,  2.03103624e-02, -6.71180842e-02,  2.14798757e-01,\n",
       "       -3.11487238e-02,  6.79675467e-02, -4.31962642e-02, -6.14685368e-02,\n",
       "        5.71936853e-02,  1.17870948e-01, -2.39499023e-01, -1.18331985e-01,\n",
       "       -2.45212181e-01,  1.22967580e-02,  2.31085494e-02, -1.16575265e-01,\n",
       "        1.44207335e-01,  5.38259690e-02,  1.64187359e-01,  2.92056029e-02,\n",
       "        8.02680358e-02,  1.07787637e-01, -3.48449823e-03,  9.56840881e-02,\n",
       "        2.83964880e-03,  2.32825846e-03, -3.46417880e-02,  4.39463148e-02,\n",
       "       -1.37021346e-01,  1.83790557e-01,  4.64004044e-02, -1.24360055e-01,\n",
       "        2.59961172e-03, -9.21229931e-02,  5.19422004e-02, -1.22406454e-01,\n",
       "        2.83513847e-02, -7.94451388e-02, -1.30579840e-01, -4.67769678e-02,\n",
       "       -2.16375815e-01,  1.47086443e-01, -1.18376919e-01, -1.39945646e-01,\n",
       "       -1.41163941e-01, -4.63140607e-02,  5.84340627e-02, -5.62017699e-02,\n",
       "       -1.20519625e-01,  1.61629489e-01, -4.95496739e-02,  9.32808340e-02,\n",
       "        1.60679345e-02,  2.43938858e-02, -1.14830113e-02, -1.17556473e-01,\n",
       "       -1.40555385e-01,  1.56469945e-01,  4.49777097e-03, -1.08249271e-01,\n",
       "        4.69325304e-02,  1.49586342e-01, -3.73090854e-02, -7.60227916e-03,\n",
       "       -4.49058025e-03, -1.00445564e-01,  1.84805740e-02, -1.61132030e-02,\n",
       "        7.43682011e-02, -7.14728129e-02,  5.95771558e-02,  1.09198240e-01,\n",
       "       -1.63148888e-01, -6.64917829e-03, -1.06416850e-01,  3.11445666e-02,\n",
       "        3.16881043e-02,  1.11695996e-02, -2.06538356e-02, -1.37703075e-01,\n",
       "       -1.00906581e-01, -6.42926704e-03,  2.99269970e-02,  9.92918088e-02,\n",
       "        1.85660957e-01,  2.59436373e-02, -4.55539767e-02, -1.44772649e-01,\n",
       "       -9.49119438e-02,  7.51244053e-02, -2.43917815e-02, -6.00553053e-02,\n",
       "       -8.18672760e-02,  5.58841018e-02,  8.06033232e-02,  8.99201997e-02,\n",
       "       -2.02900403e-01, -5.33710861e-02,  6.03625739e-02, -2.55117380e-02,\n",
       "       -3.17070217e-02,  7.60205958e-02,  2.79384119e-03,  7.79081921e-02,\n",
       "       -8.85173528e-02, -1.09551992e-01,  2.71071663e-02,  1.31577561e-01,\n",
       "        3.09875450e-02, -2.12651671e-02, -1.35209443e-01, -1.86747638e-01,\n",
       "        1.73292919e-01,  6.87381472e-03, -2.10195701e-01,  3.97565702e-02,\n",
       "       -2.01499638e-01, -9.85967593e-02,  2.85892395e-01,  1.78379565e-01,\n",
       "        3.32658398e-02, -1.51687910e-01,  1.60844414e-01, -1.45022867e-01,\n",
       "       -3.28429864e-02, -1.06494009e-01, -5.52285131e-02, -1.83964997e-01,\n",
       "        6.09781770e-02, -1.83704432e-02, -5.78926330e-02, -1.23646661e-01,\n",
       "       -1.90074481e-02,  6.66702220e-02,  9.28284467e-02, -8.25608862e-02,\n",
       "       -4.87087223e-02, -7.93846874e-02, -1.19785689e-02,  1.09213751e-01,\n",
       "        4.19608383e-02,  4.14763071e-02,  7.04574243e-02,  1.45920281e-01,\n",
       "        2.95593742e-03, -2.98985298e-02, -1.07461847e-03,  2.57432813e-02,\n",
       "        1.75306430e-01, -3.62267648e-03, -1.59173376e-01, -1.59875327e-01,\n",
       "       -1.94178394e-01, -2.95019374e-02, -5.32107956e-03,  1.75732593e-01,\n",
       "        1.21293583e-02,  7.37677099e-02,  1.46231204e-01,  5.35947109e-02,\n",
       "       -8.72710716e-02, -5.11955589e-02, -1.44693731e-01,  2.07958928e-02,\n",
       "       -7.97726454e-02, -1.70093059e-03,  2.32552351e-03,  2.21226732e-02,\n",
       "        3.48643433e-02, -2.95112002e-02,  2.49262932e-02,  1.27363546e-01,\n",
       "        1.23655524e-03, -1.46093199e-02,  1.71731552e-01, -4.17329701e-02,\n",
       "       -1.02717905e-01,  7.14997639e-02,  7.77293983e-04,  9.01204812e-02,\n",
       "       -8.70332378e-02, -9.78900185e-02, -1.09823888e-01,  7.82643491e-02,\n",
       "        1.60362727e-01, -9.44606563e-02, -1.78121477e-01,  6.61189106e-03,\n",
       "        1.16071688e-01, -6.76908804e-02,  1.16179299e-01,  3.60316389e-02,\n",
       "       -6.79608702e-02,  4.31578823e-02,  2.20098164e-02, -1.80755630e-02,\n",
       "       -2.91275532e-03,  5.02100960e-03,  3.00082127e-02,  8.41657369e-02,\n",
       "        4.68849037e-02,  3.73110141e-02, -1.75756725e-01,  1.48476455e-02,\n",
       "        1.01777101e-01,  2.46339346e-01, -1.55471560e-02,  1.65495359e-02])"
      ]
     },
     "execution_count": 23,
     "metadata": {},
     "output_type": "execute_result"
    }
   ],
   "source": [
    "np.random.normal(0, 0.1, 1000)"
   ]
  },
  {
   "cell_type": "code",
   "execution_count": 24,
   "metadata": {},
   "outputs": [
    {
     "data": {
      "text/plain": [
       "(array([  8.,  27.,  92., 205., 251., 214., 141.,  45.,  15.,   2.]),\n",
       " array([-0.29479197, -0.23195097, -0.16910997, -0.10626897, -0.04342797,\n",
       "         0.01941303,  0.08225403,  0.14509503,  0.20793603,  0.27077703,\n",
       "         0.33361803]),\n",
       " <a list of 10 Patch objects>)"
      ]
     },
     "execution_count": 24,
     "metadata": {},
     "output_type": "execute_result"
    },
    {
     "data": {
      "image/png": "[encoded data removed]",
      "text/plain": [
       "<Figure size 432x288 with 1 Axes>"
      ]
     },
     "metadata": {
      "needs_background": "light"
     },
     "output_type": "display_data"
    }
   ],
   "source": [
    "x = np.random.normal(0, 0.1, 1000)\n",
    "plt.hist(x)"
   ]
  },
  {
   "cell_type": "markdown",
   "metadata": {},
   "source": [
    "## Uniform Distribution Versus Random Distribution\n",
    "\n",
    "With uniform distribution, each number in the range is equally (\"uniformly\") likely to be picked.  Where as with Randsom Distribution, numbers close to the mean are much more likely to be picked than those far away from the mean."
   ]
  },
  {
   "cell_type": "markdown",
   "metadata": {},
   "source": [
    "# Binomial Distribution\n",
    "\n",
    "A random variable X that has a binomial distribution represents the number of successes in a sequence of n independent yes/no trials, each of which yields success with probability p.\n"
   ]
  },
  {
   "cell_type": "code",
   "execution_count": 40,
   "metadata": {},
   "outputs": [
    {
     "data": {
      "text/plain": [
       "(array([ 31., 123., 206., 266.,   0., 209., 109.,  40.,  14.,   2.]),\n",
       " array([0. , 0.8, 1.6, 2.4, 3.2, 4. , 4.8, 5.6, 6.4, 7.2, 8. ]),\n",
       " <a list of 10 Patch objects>)"
      ]
     },
     "execution_count": 40,
     "metadata": {},
     "output_type": "execute_result"
    },
    {
     "data": {
      "image/png": "[encoded data removed]",
      "text/plain": [
       "<Figure size 432x288 with 1 Axes>"
      ]
     },
     "metadata": {
      "needs_background": "light"
     },
     "output_type": "display_data"
    }
   ],
   "source": [
    "n, p = 10, .3  # number of trials, probability of each trial\n",
    "s = np.random.binomial(n, p, 1000) # result of flipping a coin 10 times, probability of getting heads is .3,tested 1000 times.\n",
    "plt.hist(s)"
   ]
  },
  {
   "cell_type": "code",
   "execution_count": 36,
   "metadata": {},
   "outputs": [
    {
     "data": {
      "text/plain": [
       "(array([17.,  0., 25.,  0.,  0.,  6.,  0.,  1.,  0.,  1.]),\n",
       " array([0. , 0.4, 0.8, 1.2, 1.6, 2. , 2.4, 2.8, 3.2, 3.6, 4. ]),\n",
       " <a list of 10 Patch objects>)"
      ]
     },
     "execution_count": 36,
     "metadata": {},
     "output_type": "execute_result"
    },
    {
     "data": {
      "image/png": "[encoded data removed]",
      "text/plain": [
       "<Figure size 432x288 with 1 Axes>"
      ]
     },
     "metadata": {
      "needs_background": "light"
     },
     "output_type": "display_data"
    }
   ],
   "source": [
    "#A company drills 9 wild-cat oil exploration wells, each with an estimated probability of success of 0.1. All nine wells fail. What is the probability of that happening?\n",
    "#Let’s do 50 trials of the model, and count the number that generate zero positive results.\n",
    "x = np.random.binomial(9, 0.1, 50)\n",
    "plt.hist(x)\n"
   ]
  },
  {
   "cell_type": "code",
   "execution_count": 39,
   "metadata": {},
   "outputs": [
    {
     "data": {
      "text/plain": [
       "0.38505"
      ]
     },
     "execution_count": 39,
     "metadata": {},
     "output_type": "execute_result"
    }
   ],
   "source": [
    "#A company drills 9 wild-cat oil exploration wells, each with an estimated probability of success of 0.1. All nine wells fail. What is the probability of that happening?\n",
    "#Let’s do 20,0000 trials of the model, and count the number that generate zero positive results.\n",
    "\n",
    "\n",
    "sum(np.random.binomial(9, 0.1, 20000) == 0)/20000\n"
   ]
  },
  {
   "cell_type": "markdown",
   "metadata": {},
   "source": [
    "# Power Distribution\n",
    "\n",
    "Draws samples in 0,1 from a power distribution with positive exponent a - 1.\n",
    "Also known as the power function distribution."
   ]
  },
  {
   "cell_type": "code",
   "execution_count": 58,
   "metadata": {},
   "outputs": [
    {
     "data": {
      "text/plain": [
       "(array([  7.,  16.,  16.,  38.,  38.,  87., 126., 148., 222., 302.]),\n",
       " array([0.31205167, 0.38084278, 0.44963388, 0.51842499, 0.5872161 ,\n",
       "        0.6560072 , 0.72479831, 0.79358941, 0.86238052, 0.93117163,\n",
       "        0.99996273]),\n",
       " <a list of 10 Patch objects>)"
      ]
     },
     "execution_count": 58,
     "metadata": {},
     "output_type": "execute_result"
    },
    {
     "data": {
      "image/png": "[encoded data removed]",
      "text/plain": [
       "<Figure size 432x288 with 1 Axes>"
      ]
     },
     "metadata": {
      "needs_background": "light"
     },
     "output_type": "display_data"
    }
   ],
   "source": [
    "a = 5. # shape\n",
    "samples = 1000\n",
    "s = np.random.power(a, samples)\n",
    "plt.hist(s)"
   ]
  },
  {
   "cell_type": "code",
   "execution_count": 59,
   "metadata": {},
   "outputs": [
    {
     "data": {
      "image/png": "[encoded data removed]",
      "text/plain": [
       "<Figure size 432x288 with 1 Axes>"
      ]
     },
     "metadata": {
      "needs_background": "light"
     },
     "output_type": "display_data"
    }
   ],
   "source": [
    "count, bins, ignored = plt.hist(s, bins=30)\n",
    "x = np.linspace(0, 1, 100)\n",
    "y = a*x**(a-1.)\n",
    "normed_y = samples*np.diff(bins)[0]*y\n",
    "plt.plot(x, normed_y)\n",
    "plt.show()"
   ]
  },
  {
   "cell_type": "markdown",
   "metadata": {},
   "source": [
    "# Poisson Distribution\n",
    "\n",
    "The Poisson distribution is the discrete probability distribution of the number of events occurring in a given time period, given the average number of times the event occurs over that time period"
   ]
  },
  {
   "cell_type": "code",
   "execution_count": 61,
   "metadata": {},
   "outputs": [
    {
     "data": {
      "text/plain": [
       "(array([ 50.,  84., 144., 322., 142., 117., 107.,  21.,   6.,   7.]),\n",
       " array([ 0. ,  1.3,  2.6,  3.9,  5.2,  6.5,  7.8,  9.1, 10.4, 11.7, 13. ]),\n",
       " <a list of 10 Patch objects>)"
      ]
     },
     "execution_count": 61,
     "metadata": {},
     "output_type": "execute_result"
    },
    {
     "data": {
      "image/png": "[encoded data removed]",
      "text/plain": [
       "<Figure size 432x288 with 1 Axes>"
      ]
     },
     "metadata": {
      "needs_background": "light"
     },
     "output_type": "display_data"
    }
   ],
   "source": [
    "\n",
    "x=np.random.poisson(5, 1000)\n",
    "plt.hist(x)\n",
    "\n"
   ]
  },
  {
   "cell_type": "code",
   "execution_count": 51,
   "metadata": {},
   "outputs": [
    {
     "data": {
      "text/plain": [
       "(array([32.,  0., 39.,  0.,  0., 21.,  0.,  6.,  0.,  2.]),\n",
       " array([0. , 0.4, 0.8, 1.2, 1.6, 2. , 2.4, 2.8, 3.2, 3.6, 4. ]),\n",
       " <a list of 10 Patch objects>)"
      ]
     },
     "execution_count": 51,
     "metadata": {},
     "output_type": "execute_result"
    },
    {
     "data": {
      "image/png": "[encoded data removed]",
      "text/plain": [
       "<Figure size 432x288 with 1 Axes>"
      ]
     },
     "metadata": {
      "needs_background": "light"
     },
     "output_type": "display_data"
    }
   ],
   "source": [
    "x=np.random.poisson(1, 100)\n",
    "plt.hist(x)\n",
    "\n"
   ]
  },
  {
   "cell_type": "markdown",
   "metadata": {},
   "source": [
    "## Generating random numbers from a Poisson distribution\n",
    "To investigate the impact of private information, Easley, Kiefer, O'Hara, and Paperman (1996) designed a (PIN) Probability of informed trading measure that is derived based on the daily number of buyer-initiated trades and the number of seller-initiated trades. The fundamental aspect of their model is to assume that order arrivals follow a Poisson distribution. The following code shows how to generate n random numbers from a Poisson distribution. ref https://www.packtpub.com/mapt/book/application_development/9781783284375/11/ch11lvl1sec167/generating-random-numbers-from-a-poisson-distribution"
   ]
  },
  {
   "cell_type": "code",
   "execution_count": 52,
   "metadata": {},
   "outputs": [
    {
     "data": {
      "image/png": "[encoded data removed]",
      "text/plain": [
       "<Figure size 432x288 with 1 Axes>"
      ]
     },
     "metadata": {
      "needs_background": "light"
     },
     "output_type": "display_data"
    }
   ],
   "source": [
    "x=np.random.poisson(lam=1, size=100)\n",
    "#plt.plot(x,'o')\n",
    "a = 5. # shape\n",
    "n = 1000\n",
    "s = np.random.power(a, n)\n",
    "count, bins, ignored = plt.hist(s, bins=30)\n",
    "x = np.linspace(0, 1, 100)\n",
    "y = a*x**(a-1.)\n",
    "normed_y = n*np.diff(bins)[0]*y\n",
    "plt.plot(x, normed_y)\n",
    "plt.show()"
   ]
  },
  {
   "cell_type": "code",
   "execution_count": null,
   "metadata": {},
   "outputs": [],
   "source": []
  }
 ],
 "metadata": {
  "kernelspec": {
   "display_name": "Python 3",
   "language": "python",
   "name": "python3"
  },
  "language_info": {
   "codemirror_mode": {
    "name": "ipython",
    "version": 3
   },
   "file_extension": ".py",
   "mimetype": "text/x-python",
   "name": "python",
   "nbconvert_exporter": "python",
   "pygments_lexer": "ipython3",
   "version": "3.6.6"
  }
 },
 "nbformat": 4,
 "nbformat_minor": 2
}
