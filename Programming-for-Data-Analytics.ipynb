{
 "cells": [
  {
   "cell_type": "markdown",
   "metadata": {},
   "source": [
    "# The numpy.random package"
   ]
  },
  {
   "cell_type": "markdown",
   "metadata": {},
   "source": [
    "## What is NumPy.random\n",
    "\n",
    "NumPy is the fundamental package for scientific computing with Python. It contains among other things:\n",
    "- a powerful N-dimensional array object\n",
    "- sophisticated (broadcasting) functions\n",
    "- tools for integrating C/C++ and Fortran code\n",
    "- useful linear algebra, Fourier transform, and random number capabilities\n",
    "\n",
    "Besides its obvious scientific uses, NumPy can also be used as an efficient multi-dimensional container of generic data. Arbitrary data-types can be defined. This allows NumPy to seamlessly and speedily integrate with a wide variety of databases. (http://www.numpy.org/)\n",
    "\n",
    "Numpy is bascially a maths library for python. Not only does it make basic computation easy, it also enables you to perform complex maths problems.  Numpy is an important package as so many other packages depend on it.  However interacting with it directly is not that common as you typically interact with NumPy through the use of other packages such as Panda's and SciPy.\n",
    "\n",
    "The NumPy.random package is a sub package of the Numpy package in Python.  The NumPy.random pakcage generates random numbers in Python. A computer can't generate random numbers.  It generates pseudorandom numbers, but for this exercise when I talk about random numbers please take it that I mean psuedo random numbers. There are lots of ways to generate different types of random numbers.  This is exactly what NumPy.random does."
   ]
  },
  {
   "cell_type": "markdown",
   "metadata": {},
   "source": [
    "# Simple Random Data & Permutations Functions \n",
    "\n",
    "## Simple Random Data\n",
    "Simple Random Data functions enables you to generate random data for everyday purpose. \n",
    "\n",
    "\n",
    "## Permutations\n",
    "There are two functions here, shuffle and permutation.  Shuffle changes a Numpy array in place where as Permutation doesn't change what you pass into it.\n",
    "\n",
    "### The best way to explain the use of each of these functions is to show examples of these functions in action "
   ]
  },
  {
   "cell_type": "markdown",
   "metadata": {},
   "source": [
    "# Simple Random Data - Rand Function"
   ]
  },
  {
   "cell_type": "code",
   "execution_count": 42,
   "metadata": {},
   "outputs": [
    {
     "data": {
      "text/plain": [
       "array([[0.00810927, 0.04316567],\n",
       "       [0.35083363, 0.1083842 ],\n",
       "       [0.29987104, 0.58247248]])"
      ]
     },
     "execution_count": 42,
     "metadata": {},
     "output_type": "execute_result"
    }
   ],
   "source": [
    "import numpy as np #importing the numpy package and renaming it as np\n",
    "np.random.rand(3,2) #here you get an array with 3 rows, 2 columns.  Each time you run the function, you get different numbers"
   ]
  },
  {
   "cell_type": "code",
   "execution_count": 43,
   "metadata": {},
   "outputs": [
    {
     "data": {
      "text/plain": [
       "array([[0.13863335, 0.54664599, 0.12860804, 0.46587763, 0.21090202,\n",
       "        0.22177581],\n",
       "       [0.21162387, 0.69782916, 0.83831604, 0.42696801, 0.50619824,\n",
       "        0.98527954],\n",
       "       [0.22937305, 0.08790179, 0.18432555, 0.82727254, 0.75599066,\n",
       "        0.69011052],\n",
       "       [0.80031353, 0.26405829, 0.428161  , 0.27730862, 0.86011001,\n",
       "        0.84029816]])"
      ]
     },
     "execution_count": 43,
     "metadata": {},
     "output_type": "execute_result"
    }
   ],
   "source": [
    "np.random.rand(4,6) #here you get an array with 4 rows, 6 columns"
   ]
  },
  {
   "cell_type": "code",
   "execution_count": 44,
   "metadata": {},
   "outputs": [
    {
     "data": {
      "text/plain": [
       "array([0.70999481, 0.57475558, 0.561984  ])"
      ]
     },
     "execution_count": 44,
     "metadata": {},
     "output_type": "execute_result"
    }
   ],
   "source": [
    "np.random.rand(3) #()shows the shape of the array"
   ]
  },
  {
   "cell_type": "markdown",
   "metadata": {},
   "source": [
    "### The rand function gives us random values in a given shape"
   ]
  },
  {
   "cell_type": "code",
   "execution_count": 45,
   "metadata": {},
   "outputs": [
    {
     "data": {
      "text/plain": [
       "(array([ 975.,  965., 1036.,  983.,  992., 1025., 1011.,  990., 1008.,\n",
       "        1015.]),\n",
       " array([1.72734190e-04, 1.00144377e-01, 2.00116021e-01, 3.00087664e-01,\n",
       "        4.00059307e-01, 5.00030951e-01, 6.00002594e-01, 6.99974237e-01,\n",
       "        7.99945880e-01, 8.99917524e-01, 9.99889167e-01]),\n",
       " <a list of 10 Patch objects>)"
      ]
     },
     "execution_count": 45,
     "metadata": {},
     "output_type": "execute_result"
    },
    {
     "data": {
      "image/png": "[encoded data removed]",
      "text/plain": [
       "<Figure size 432x288 with 1 Axes>"
      ]
     },
     "metadata": {
      "needs_background": "light"
     },
     "output_type": "display_data"
    }
   ],
   "source": [
    "%matplotlib inline\n",
    "\n",
    "import matplotlib.pyplot as plt\n",
    "\n",
    "\n",
    "x = np.random.rand(10000)\n",
    "plt.hist(x)\n"
   ]
  },
  {
   "cell_type": "markdown",
   "metadata": {},
   "source": [
    "### From the histogram, we can see that the rand function, creates an array of the given shape and populates it with random samples from a uniform distribution"
   ]
  },
  {
   "cell_type": "markdown",
   "metadata": {},
   "source": [
    "# Simple Random Data - random_sample Function"
   ]
  },
  {
   "cell_type": "code",
   "execution_count": 46,
   "metadata": {},
   "outputs": [
    {
     "data": {
      "text/plain": [
       "0.9058777863081392"
      ]
     },
     "execution_count": 46,
     "metadata": {},
     "output_type": "execute_result"
    }
   ],
   "source": [
    "np.random.random_sample() #Return random floats in the half-open interval [0.0, 1.0). \n",
    "#Results are from the “continuous uniform” distribution over the stated interval"
   ]
  },
  {
   "cell_type": "code",
   "execution_count": 47,
   "metadata": {},
   "outputs": [
    {
     "data": {
      "text/plain": [
       "array([[0.02230572, 0.18985428, 0.21251483, 0.06726895],\n",
       "       [0.49379567, 0.99228719, 0.94732945, 0.38910899]])"
      ]
     },
     "execution_count": 47,
     "metadata": {},
     "output_type": "execute_result"
    }
   ],
   "source": [
    "np.random.random_sample((2, 4))"
   ]
  },
  {
   "cell_type": "code",
   "execution_count": 48,
   "metadata": {},
   "outputs": [
    {
     "data": {
      "text/plain": [
       "array([0.91338839, 0.97988771, 0.24891209, 0.22654802, 0.17136242])"
      ]
     },
     "execution_count": 48,
     "metadata": {},
     "output_type": "execute_result"
    }
   ],
   "source": [
    "np.random.random_sample((5,))\n"
   ]
  },
  {
   "cell_type": "code",
   "execution_count": 49,
   "metadata": {},
   "outputs": [
    {
     "data": {
      "text/plain": [
       "array([[-5.71147986, -5.26178075],\n",
       "       [-5.48051522, -5.72367613],\n",
       "       [-5.12262046, -5.85434444]])"
      ]
     },
     "execution_count": 49,
     "metadata": {},
     "output_type": "execute_result"
    }
   ],
   "source": [
    "np.random.random_sample((3, 2)) - 6 #Three-by-two array of random numbers from (-6, 0)"
   ]
  },
  {
   "cell_type": "markdown",
   "metadata": {},
   "source": [
    "# Simple Random Data - random.choice\n",
    "\n",
    "Generates a random sample from a given 1-D array"
   ]
  },
  {
   "cell_type": "code",
   "execution_count": 50,
   "metadata": {},
   "outputs": [
    {
     "data": {
      "text/plain": [
       "array([1, 4, 1, 2, 1, 4, 1, 3])"
      ]
     },
     "execution_count": 50,
     "metadata": {},
     "output_type": "execute_result"
    }
   ],
   "source": [
    " np.random.choice(5, 8) # creates a random sample from numbers 0 - 5 (not incl 5), 8 numbers"
   ]
  },
  {
   "cell_type": "code",
   "execution_count": 51,
   "metadata": {},
   "outputs": [
    {
     "data": {
      "text/plain": [
       "array([4, 3, 2, 2])"
      ]
     },
     "execution_count": 51,
     "metadata": {},
     "output_type": "execute_result"
    }
   ],
   "source": [
    "np.random.choice(6, 4) # creates a random sample from numbers 0 - 6 (not incl 6),4 numbers"
   ]
  },
  {
   "cell_type": "code",
   "execution_count": 52,
   "metadata": {},
   "outputs": [
    {
     "data": {
      "text/plain": [
       "array([2, 0])"
      ]
     },
     "execution_count": 52,
     "metadata": {},
     "output_type": "execute_result"
    }
   ],
   "source": [
    "np.random.choice(3, 2) # creates a random sample from numbers 0 - 3 (not incl 3), 2 numbers"
   ]
  },
  {
   "cell_type": "code",
   "execution_count": 53,
   "metadata": {},
   "outputs": [
    {
     "data": {
      "text/plain": [
       "(1, 2)"
      ]
     },
     "execution_count": 53,
     "metadata": {},
     "output_type": "execute_result"
    }
   ],
   "source": [
    "x = [(1,2),(4,3),(6,9)]\n",
    "x[np.random.choice(len(x))] # of the variables in x, choose a random set"
   ]
  },
  {
   "cell_type": "code",
   "execution_count": 54,
   "metadata": {},
   "outputs": [
    {
     "data": {
      "text/plain": [
       "(4, 3)"
      ]
     },
     "execution_count": 54,
     "metadata": {},
     "output_type": "execute_result"
    }
   ],
   "source": [
    "x[np.random.choice(len(x))]"
   ]
  },
  {
   "cell_type": "markdown",
   "metadata": {},
   "source": [
    "# Permutations - Shuffle\n",
    "\n",
    "Modifies a sequence in-place by shuffling its contents.  This function only shuffles the array along the first axis of a multi-dimensional array. The order of sub-arrays is changed but their contents remains the same"
   ]
  },
  {
   "cell_type": "code",
   "execution_count": 55,
   "metadata": {},
   "outputs": [
    {
     "data": {
      "text/plain": [
       "array([2, 6, 9, 3, 0, 8, 7, 4, 1, 5])"
      ]
     },
     "execution_count": 55,
     "metadata": {},
     "output_type": "execute_result"
    }
   ],
   "source": [
    "arr = np.arange(10) # an arrray of 10 numbers\n",
    "np.random.shuffle(arr) #random.shuffle changes the order\n",
    "arr"
   ]
  },
  {
   "cell_type": "code",
   "execution_count": 56,
   "metadata": {},
   "outputs": [
    {
     "data": {
      "text/plain": [
       "array([ 8, 14,  3, 16,  2, 19,  6, 18,  4, 17, 13,  0, 15, 11,  1,  5,  7,\n",
       "       12, 10,  9])"
      ]
     },
     "execution_count": 56,
     "metadata": {},
     "output_type": "execute_result"
    }
   ],
   "source": [
    "arr = np.arange(20) # an arrray of 20 numbers\n",
    "np.random.shuffle(arr) #random.shuffle changes the order\n",
    "arr"
   ]
  },
  {
   "cell_type": "code",
   "execution_count": 57,
   "metadata": {},
   "outputs": [
    {
     "data": {
      "text/plain": [
       "array([[ 8,  9, 10, 11],\n",
       "       [ 4,  5,  6,  7],\n",
       "       [ 0,  1,  2,  3]])"
      ]
     },
     "execution_count": 57,
     "metadata": {},
     "output_type": "execute_result"
    }
   ],
   "source": [
    "arr = np.arange(12).reshape((3, 4)) # an array of 12 numbers, shuffled, displayed  row 3 x Column 4\n",
    "np.random.shuffle(arr)\n",
    "arr"
   ]
  },
  {
   "cell_type": "code",
   "execution_count": 58,
   "metadata": {},
   "outputs": [
    {
     "data": {
      "text/plain": [
       "array([[0, 1, 2, 3, 4, 5, 6, 7, 8]])"
      ]
     },
     "execution_count": 58,
     "metadata": {},
     "output_type": "execute_result"
    }
   ],
   "source": [
    "arr = np.arange(9).reshape((1,9)) # an array of 9 numbers, shuffled, displayed row 1 x column 9\n",
    "np.random.shuffle(arr)\n",
    "arr"
   ]
  },
  {
   "cell_type": "markdown",
   "metadata": {},
   "source": [
    "# Permutations - Permutation\n",
    "\n",
    "Randomly permute a sequence, or return a permuted range.  If x is a multi-dimensional array, it is only shuffled along its first index.  If x is an integer, randomly permute np.arange(x). If x is an array, make a copy and shuffle the elements randomly"
   ]
  },
  {
   "cell_type": "code",
   "execution_count": 59,
   "metadata": {},
   "outputs": [
    {
     "data": {
      "text/plain": [
       "array([14, 11,  9,  6,  1,  8,  2, 12,  7,  4,  0,  3,  5, 13, 10])"
      ]
     },
     "execution_count": 59,
     "metadata": {},
     "output_type": "execute_result"
    }
   ],
   "source": [
    " np.random.permutation(15)"
   ]
  },
  {
   "cell_type": "code",
   "execution_count": 60,
   "metadata": {},
   "outputs": [
    {
     "data": {
      "text/plain": [
       "array([15,  4,  9,  1, 12])"
      ]
     },
     "execution_count": 60,
     "metadata": {},
     "output_type": "execute_result"
    }
   ],
   "source": [
    " np.random.permutation([1, 4, 9, 12, 15])"
   ]
  },
  {
   "cell_type": "code",
   "execution_count": 61,
   "metadata": {},
   "outputs": [
    {
     "data": {
      "text/plain": [
       "array([[12, 13, 14, 15],\n",
       "       [ 8,  9, 10, 11],\n",
       "       [ 0,  1,  2,  3],\n",
       "       [ 4,  5,  6,  7]])"
      ]
     },
     "execution_count": 61,
     "metadata": {},
     "output_type": "execute_result"
    }
   ],
   "source": [
    "arr = np.arange(16).reshape((4, 4))\n",
    "np.random.permutation(arr)\n"
   ]
  },
  {
   "cell_type": "markdown",
   "metadata": {},
   "source": [
    "### np.random.permutation has two differences from np.random.shuffle\n",
    "- if passed an array, it will return a shuffled copy of the array; np.random.shuffle shuffles the array inplace\n",
    "- if passed an integer, it will return a shuffled range i.e. np.random.shuffle(np.arange(n))"
   ]
  },
  {
   "attachments": {
    "dist.PNG": {
     "image/png": "[encoded data removed]"
    }
   },
   "cell_type": "markdown",
   "metadata": {},
   "source": [
    "# What’s a Probability Distribution?\n",
    "\n",
    "Things happen all the time: dice are rolled, it rains, buses arrive. After the fact, the specific outcomes are certain: the dice came up 3 and 4, there was half an inch of rain today, the bus took 3 minutes to arrive. Before, we can only talk about how likely the outcomes are. Probability distributions describe what we think the probability of each outcome is, which is sometimes more interesting to know than simply which single outcome is most likely. They come in many shapes, but in only one size: probabilities in a distribution always add up to 1. (ref: http://blog.cloudera.com/blog/2015/12/common-probability-distributions-the-data-scientists-crib-sheet/).  The common distributions tend to relate to each other in one way or antoher.  Below is a map of their relationships:\n",
    "\n",
    "\n",
    "![dist.PNG](attachment:dist.PNG)"
   ]
  },
  {
   "cell_type": "markdown",
   "metadata": {},
   "source": [
    "Each distribution is illustrated by an example of its probability density function (PDF).  In probability theory, a probability density function (PDF), or density of a continuous random variable, is a function, whose value at any given sample (or point) in the sample space (the set of possible values taken by the random variable) can be interpreted as providing a relative likelihood that the value of the random variable would equal that sample. (ref: https://en.wikipedia.org/wiki/Probability_density_function)\n",
    "\n",
    "Random sampling in Numpy has different functions for displaying the different probability distributions.  I will focus on 5 of these distributions and explain the purpose of each distribution with the help of graphs."
   ]
  },
  {
   "cell_type": "markdown",
   "metadata": {},
   "source": [
    "# Distributions"
   ]
  },
  {
   "cell_type": "markdown",
   "metadata": {},
   "source": [
    "## Uniform Distribution\n",
    "Samples are uniformly distributed over the half-open interval [low, high) (includes low, but excludes high). In other words, any value within the given interval is equally likely to be drawn by uniform. (ref: https://docs.scipy.org/doc/numpy-1.14.0/reference/generated/numpy.random.uniform.html#numpy.random.uniform"
   ]
  },
  {
   "cell_type": "code",
   "execution_count": 62,
   "metadata": {},
   "outputs": [
    {
     "data": {
      "text/plain": [
       "array([-0.99264448, -0.67117818, -0.63275681, -0.922626  , -0.69316615,\n",
       "       -0.75377766, -0.09704011, -0.49207372, -0.73887165, -0.16050726,\n",
       "       -0.25197671, -0.97741683, -0.3448914 , -0.65874356, -0.79700668,\n",
       "       -0.64701663, -0.17286338, -0.67295735, -0.51021142, -0.52666469,\n",
       "       -0.84299474, -0.48753475, -0.85680567, -0.50548087, -0.52834237,\n",
       "       -0.72707517, -0.59846056, -0.28235934, -0.58082656, -0.19762858,\n",
       "       -0.71643184, -0.50526467, -0.04554373, -0.56449259, -0.53933262,\n",
       "       -0.99154963, -0.17708778, -0.59362002, -0.16085782, -0.5935486 ,\n",
       "       -0.6234759 , -0.28376108, -0.28494666, -0.21897737, -0.03608976,\n",
       "       -0.46186551, -0.17830362, -0.88256043, -0.02164272, -0.69421148,\n",
       "       -0.08218404, -0.04385519, -0.69736945, -0.87547195, -0.54983391,\n",
       "       -0.30130534, -0.33883877, -0.20773562, -0.80523277, -0.40394774,\n",
       "       -0.03190982, -0.89761656, -0.18333167, -0.94374936, -0.52278208,\n",
       "       -0.54290659, -0.11385739, -0.16886174, -0.47387806, -0.57079677,\n",
       "       -0.37030007, -0.1623546 , -0.4917143 , -0.47667928, -0.8817523 ,\n",
       "       -0.57614001, -0.16219512, -0.25254127, -0.74035964, -0.01785561,\n",
       "       -0.7752883 , -0.33529335, -0.92403865, -0.67132232, -0.77891954,\n",
       "       -0.29379235, -0.88069157, -0.88219   , -0.28148221, -0.09636128,\n",
       "       -0.7944379 , -0.54250377, -0.86914089, -0.4107084 , -0.76075835,\n",
       "       -0.88878079, -0.66588754, -0.42230926, -0.41409211, -0.49614642])"
      ]
     },
     "execution_count": 62,
     "metadata": {},
     "output_type": "execute_result"
    }
   ],
   "source": [
    "np.random.uniform(-1, 0, 100) #low=-1, High=0, Size=100"
   ]
  },
  {
   "cell_type": "code",
   "execution_count": 63,
   "metadata": {},
   "outputs": [
    {
     "data": {
      "text/plain": [
       "array([3.52690717, 4.71942554, 3.84948528, 3.92226634, 2.02793921,\n",
       "       2.15005848, 2.78060147, 4.39325531, 2.12461033, 3.85947072])"
      ]
     },
     "execution_count": 63,
     "metadata": {},
     "output_type": "execute_result"
    }
   ],
   "source": [
    "np.random.uniform(2, 5, 10) #low=-2, High=5, Size=10"
   ]
  },
  {
   "cell_type": "code",
   "execution_count": 64,
   "metadata": {},
   "outputs": [
    {
     "data": {
      "text/plain": [
       "array([2.91941117, 2.12808149, 2.15160402, 2.45214951, 2.9652344 ,\n",
       "       2.35114575, 2.02165583, 2.93673706, 2.24117175, 2.64077211])"
      ]
     },
     "execution_count": 64,
     "metadata": {},
     "output_type": "execute_result"
    }
   ],
   "source": [
    "np.random.uniform(2, 3, 10)"
   ]
  },
  {
   "cell_type": "code",
   "execution_count": 65,
   "metadata": {},
   "outputs": [
    {
     "data": {
      "text/plain": [
       "(array([ 91.,  98.,  98., 102., 110.,  89., 106.,  96., 106., 104.]),\n",
       " array([ 0.38236686, 10.34003519, 20.29770352, 30.25537185, 40.21304018,\n",
       "        50.17070851, 60.12837685, 70.08604518, 80.04371351, 90.00138184,\n",
       "        99.95905017]),\n",
       " <a list of 10 Patch objects>)"
      ]
     },
     "execution_count": 65,
     "metadata": {},
     "output_type": "execute_result"
    },
    {
     "data": {
      "image/png": "[encoded data removed]",
      "text/plain": [
       "<Figure size 432x288 with 1 Axes>"
      ]
     },
     "metadata": {
      "needs_background": "light"
     },
     "output_type": "display_data"
    }
   ],
   "source": [
    "%matplotlib inline\n",
    "\n",
    "import matplotlib.pyplot as plt\n",
    "\n",
    "x = np.random.uniform(0, 100, 1000)\n",
    "plt.hist(x)"
   ]
  },
  {
   "cell_type": "markdown",
   "metadata": {},
   "source": [
    "Uniform Distribution: In probability theory and statistics, the continuous uniform distribution or rectangular distribution is a family of symmetric probability distributions such that for each member of the family, all intervals of the same length on the distribution's support are equally probable (ref:https://en.wikipedia.org/wiki/Uniform_distribution_(continuous)"
   ]
  },
  {
   "cell_type": "markdown",
   "metadata": {},
   "source": [
    "## Normal Distribution\n",
    "\n",
    "The probability density function of the normal distribution is often called the bell curve because of its characteristic shape.  A normal distribution is a distribution that occurs naturally in many situations (exams, peoples weight). The bell curve is symmetrical. Half of the data will fall to the left of the mean; half will fall to the right."
   ]
  },
  {
   "cell_type": "code",
   "execution_count": 66,
   "metadata": {},
   "outputs": [
    {
     "data": {
      "text/plain": [
       "array([-0.16193837,  0.14366313, -0.09123953,  0.06623642, -0.0248683 ,\n",
       "       -0.06381986,  0.18205478,  0.10781546, -0.04140472, -0.05788606,\n",
       "       -0.22054387, -0.08401211, -0.04427908,  0.01569335,  0.02257402,\n",
       "       -0.07841221,  0.01627187,  0.19706512, -0.04671335,  0.00651382,\n",
       "        0.06493707, -0.02091445,  0.02450215,  0.06525864,  0.07274936,\n",
       "        0.19922208, -0.11047032, -0.19829401,  0.07627835,  0.06788043,\n",
       "       -0.05134157, -0.07795771, -0.03465815, -0.04862084,  0.0665039 ,\n",
       "       -0.00895721, -0.08936823, -0.00281619, -0.00906721,  0.09811468,\n",
       "       -0.0911017 ,  0.01203641, -0.00617291,  0.00908755, -0.12637776,\n",
       "        0.11407374,  0.02298875,  0.08180789, -0.05527489,  0.09554972])"
      ]
     },
     "execution_count": 66,
     "metadata": {},
     "output_type": "execute_result"
    }
   ],
   "source": [
    "np.random.normal(0, 0.1, 50) #loc(mean)=0, scale=0.1, size=50"
   ]
  },
  {
   "cell_type": "code",
   "execution_count": 67,
   "metadata": {},
   "outputs": [
    {
     "data": {
      "text/plain": [
       "array([ 5.7884437 ,  7.69389585,  7.41312282,  7.76142745,  7.93613718,\n",
       "        5.60635578,  6.95677655,  2.99365053,  5.48295878,  0.41048973,\n",
       "        2.25014958,  1.10532543,  4.40838083,  2.40841109,  3.01850904,\n",
       "        1.79295772,  7.83451553,  5.19296438,  7.81984119,  4.42061984,\n",
       "        2.52565208,  4.23239345,  2.42966654,  6.64985485, -1.81801327,\n",
       "        6.43171552,  7.58968406,  7.38168795,  5.67617245,  1.87693936,\n",
       "       -2.54998873,  6.46544876,  8.50099753, -2.68820532,  4.48241067,\n",
       "        0.73347281,  7.95348585,  4.58328417, -0.78396659,  4.86885523,\n",
       "        6.24229672,  6.57300487,  4.28469105,  3.03540626,  1.4524009 ,\n",
       "        3.04524399,  6.11083423,  7.44265662,  6.39063613,  7.71988759])"
      ]
     },
     "execution_count": 67,
     "metadata": {},
     "output_type": "execute_result"
    }
   ],
   "source": [
    "np.random.normal(5, 3, 50) #loc(mean)=5, scale(std dev.)=3, size=50"
   ]
  },
  {
   "cell_type": "code",
   "execution_count": 68,
   "metadata": {},
   "outputs": [
    {
     "data": {
      "text/plain": [
       "(array([ 5.,  6., 13., 19., 20., 11., 15.,  6.,  3.,  2.]),\n",
       " array([-0.42233703,  0.78917047,  2.00067797,  3.21218547,  4.42369298,\n",
       "         5.63520048,  6.84670798,  8.05821548,  9.26972298, 10.48123049,\n",
       "        11.69273799]),\n",
       " <a list of 10 Patch objects>)"
      ]
     },
     "execution_count": 68,
     "metadata": {},
     "output_type": "execute_result"
    },
    {
     "data": {
      "image/png": "[encoded data removed]",
      "text/plain": [
       "<Figure size 432x288 with 1 Axes>"
      ]
     },
     "metadata": {
      "needs_background": "light"
     },
     "output_type": "display_data"
    }
   ],
   "source": [
    "x = np.random.normal(5, 3, 100)\n",
    "plt.hist(x)"
   ]
  },
  {
   "cell_type": "markdown",
   "metadata": {},
   "source": [
    "## Uniform Distribution Versus Random Distribution\n",
    "\n",
    "With uniform distribution, each number in the range is equally (\"uniformly\") likely to be picked.  Where as with Random Distribution, numbers close to the mean are much more likely to be picked than those far away from the mean."
   ]
  },
  {
   "cell_type": "markdown",
   "metadata": {},
   "source": [
    "# Binomial Distribution\n",
    "\n",
    "A random variable X that has a binomial distribution represents the number of successes in a sequence of n independent yes/no trials, each of which yields success with probability p.\n",
    "\n",
    "A binomial random variable counts how often a particular event occurs in a fixed number of tries or trials.\n",
    "n = number of trials\n",
    "p = probability event of interest occurs on any one trial\n",
    "size = number of times you want to run this experiment\n",
    "\n",
    "Suppose, You wanna check how many times you will get six if you roll dice 10 times. Here, n = 10, p = (1/6) probability of getting six in each roll. But, You have to do this experiment multiple times.\n",
    "In 1st experiment, you get 3 six, In 2nd experiment, you get 2 six, In 3rd experiment, you get 2 six, In Pth experiment, you get 2 six, here P is the size. (ref: https://stackoverflow.com/questions/27644617/difference-between-n-and-size-parameters-in-np-random-binomialn-p-size-1000)\n",
    "\n",
    "\n"
   ]
  },
  {
   "cell_type": "code",
   "execution_count": 69,
   "metadata": {},
   "outputs": [
    {
     "data": {
      "text/plain": [
       "(array([  1.,  11.,  36., 118., 203., 248., 198., 124.,  50.,  11.]),\n",
       " array([0. , 0.9, 1.8, 2.7, 3.6, 4.5, 5.4, 6.3, 7.2, 8.1, 9. ]),\n",
       " <a list of 10 Patch objects>)"
      ]
     },
     "execution_count": 69,
     "metadata": {},
     "output_type": "execute_result"
    },
    {
     "data": {
      "image/png": "[encoded data removed]",
      "text/plain": [
       "<Figure size 432x288 with 1 Axes>"
      ]
     },
     "metadata": {
      "needs_background": "light"
     },
     "output_type": "display_data"
    }
   ],
   "source": [
    "n, p = 10, .5  # number of trials, probability of each trial\n",
    "s = np.random.binomial(n, p, 1000)\n",
    "plt.hist(s)\n",
    "# result of flipping a coin 10 times, tested 1000 times."
   ]
  },
  {
   "cell_type": "code",
   "execution_count": 70,
   "metadata": {},
   "outputs": [
    {
     "data": {
      "text/plain": [
       "(array([18.,  0.,  0., 24.,  0.,  0.,  6.,  0.,  0.,  2.]),\n",
       " array([0. , 0.3, 0.6, 0.9, 1.2, 1.5, 1.8, 2.1, 2.4, 2.7, 3. ]),\n",
       " <a list of 10 Patch objects>)"
      ]
     },
     "execution_count": 70,
     "metadata": {},
     "output_type": "execute_result"
    },
    {
     "data": {
      "image/png": "[encoded data removed]",
      "text/plain": [
       "<Figure size 432x288 with 1 Axes>"
      ]
     },
     "metadata": {
      "needs_background": "light"
     },
     "output_type": "display_data"
    }
   ],
   "source": [
    "#A company drills 9 wild-cat oil exploration wells, each with an estimated probability of success of 0.1. All nine wells fail. What is the probability of that happening?\n",
    "#Let’s do 50 trials of the model, and count the number that generate zero positive results.\n",
    "x = np.random.binomial(9, 0.1, 50)\n",
    "plt.hist(x)\n"
   ]
  },
  {
   "cell_type": "code",
   "execution_count": 71,
   "metadata": {},
   "outputs": [
    {
     "data": {
      "text/plain": [
       "0.3907"
      ]
     },
     "execution_count": 71,
     "metadata": {},
     "output_type": "execute_result"
    }
   ],
   "source": [
    "#A company drills 9 wild-cat oil exploration wells, each with an estimated probability of success of 0.1. All nine wells fail. What is the probability of that happening?\n",
    "#Let’s do 20,0000 trials of the model, and count the number that generate zero positive results.\n",
    "\n",
    "\n",
    "sum(np.random.binomial(9, 0.1, 20000) == 0)/20000\n"
   ]
  },
  {
   "cell_type": "markdown",
   "metadata": {},
   "source": [
    "# Power Distribution\n",
    "\n",
    "Draws samples in 0,1 from a power distribution with positive exponent a - 1.\n",
    "Also known as the power function distribution. The power function distribution is just the inverse of the Pareto distribution."
   ]
  },
  {
   "cell_type": "code",
   "execution_count": 72,
   "metadata": {},
   "outputs": [
    {
     "data": {
      "text/plain": [
       "array([0.94885098, 0.99839579, 0.66183354, 0.79375633, 0.67767352,\n",
       "       0.88434073, 0.96265619, 0.70048953, 0.94593955, 0.5989052 ,\n",
       "       0.97581129, 0.91080717, 0.94449913, 0.74389285, 0.7536601 ,\n",
       "       0.83674051, 0.79618694, 0.96182803, 0.99306858, 0.81159554,\n",
       "       0.71708198, 0.45878473, 0.58236018, 0.57507444, 0.88902006,\n",
       "       0.60324435, 0.85921076, 0.90992566, 0.87238856, 0.29609602,\n",
       "       0.54921418, 0.99057652, 0.45726497, 0.82809598, 0.89877507,\n",
       "       0.86296873, 0.94847936, 0.93096686, 0.84741612, 0.9568311 ,\n",
       "       0.95110222, 0.32836811, 0.78559164, 0.70688445, 0.99037931,\n",
       "       0.93914071, 0.40491267, 0.79059877, 0.99617926, 0.90425161])"
      ]
     },
     "execution_count": 72,
     "metadata": {},
     "output_type": "execute_result"
    }
   ],
   "source": [
    "a = 4. # shape\n",
    "samples = 50\n",
    "s = np.random.power(a, samples)\n",
    "s"
   ]
  },
  {
   "cell_type": "code",
   "execution_count": 73,
   "metadata": {},
   "outputs": [
    {
     "data": {
      "text/plain": [
       "(array([  7.,   9.,  28.,  25.,  47.,  85., 114., 182., 210., 293.]),\n",
       " array([0.30742195, 0.37667916, 0.44593638, 0.5151936 , 0.58445082,\n",
       "        0.65370803, 0.72296525, 0.79222247, 0.86147969, 0.9307369 ,\n",
       "        0.99999412]),\n",
       " <a list of 10 Patch objects>)"
      ]
     },
     "execution_count": 73,
     "metadata": {},
     "output_type": "execute_result"
    },
    {
     "data": {
      "image/png": "[encoded data removed]",
      "text/plain": [
       "<Figure size 432x288 with 1 Axes>"
      ]
     },
     "metadata": {
      "needs_background": "light"
     },
     "output_type": "display_data"
    }
   ],
   "source": [
    "a = 5. # shape\n",
    "samples = 1000\n",
    "s = np.random.power(a, samples)\n",
    "plt.hist(s)"
   ]
  },
  {
   "cell_type": "code",
   "execution_count": 74,
   "metadata": {},
   "outputs": [
    {
     "data": {
      "image/png": "[encoded data removed]",
      "text/plain": [
       "<Figure size 432x288 with 1 Axes>"
      ]
     },
     "metadata": {
      "needs_background": "light"
     },
     "output_type": "display_data"
    }
   ],
   "source": [
    "#Display the histogram of the samples, along with the probability density function \n",
    "#ref: https://docs.scipy.org/doc/numpy-1.14.0/reference/generated/numpy.random.power.html#numpy.random.power\n",
    "count, bins, ignored = plt.hist(s, bins=30)\n",
    "x = np.linspace(0, 1, 100)\n",
    "y = a*x**(a-1.)\n",
    "normed_y = samples*np.diff(bins)[0]*y\n",
    "plt.plot(x, normed_y)\n",
    "plt.show()"
   ]
  },
  {
   "cell_type": "markdown",
   "metadata": {},
   "source": [
    "# Poisson Distribution\n",
    "The Poisson distribution is a discrete probability distribution that expresses the probability of a given number of events occurring in a fixed interval of time or space if these events occur with a known constant rate and independently of the time since the last event The Poisson distribution can also be used for the number of events in other specified intervals such as distance, area or volume. (ref: https://en.wikipedia.org/wiki/Poisson_distribution)"
   ]
  },
  {
   "cell_type": "code",
   "execution_count": 75,
   "metadata": {},
   "outputs": [
    {
     "data": {
      "text/plain": [
       "array([6, 2, 8, 4, 6, 3, 5, 8, 3, 5, 2, 2, 5, 1, 5, 6, 8, 4, 3, 5])"
      ]
     },
     "execution_count": 75,
     "metadata": {},
     "output_type": "execute_result"
    }
   ],
   "source": [
    "x = np.random.poisson(5, 20)\n",
    "x"
   ]
  },
  {
   "cell_type": "code",
   "execution_count": 76,
   "metadata": {},
   "outputs": [
    {
     "data": {
      "text/plain": [
       "(array([33.,  0., 36.,  0.,  0., 22.,  0.,  8.,  0.,  1.]),\n",
       " array([0. , 0.4, 0.8, 1.2, 1.6, 2. , 2.4, 2.8, 3.2, 3.6, 4. ]),\n",
       " <a list of 10 Patch objects>)"
      ]
     },
     "execution_count": 76,
     "metadata": {},
     "output_type": "execute_result"
    },
    {
     "data": {
      "image/png": "[encoded data removed]",
      "text/plain": [
       "<Figure size 432x288 with 1 Axes>"
      ]
     },
     "metadata": {
      "needs_background": "light"
     },
     "output_type": "display_data"
    }
   ],
   "source": [
    "x =np.random.poisson(1, 100)\n",
    "plt.hist(x)"
   ]
  },
  {
   "cell_type": "markdown",
   "metadata": {},
   "source": [
    "## Generating random numbers from a Poisson distribution\n",
    "To investigate the impact of private information, Easley, Kiefer, O'Hara, and Paperman (1996) designed a (PIN) Probability of informed trading measure that is derived based on the daily number of buyer-initiated trades and the number of seller-initiated trades. The fundamental aspect of their model is to assume that order arrivals follow a Poisson distribution. The following code shows how to generate n random numbers from a Poisson distribution. ref https://www.packtpub.com/mapt/book/application_development/9781783284375/11/ch11lvl1sec167/generating-random-numbers-from-a-poisson-distribution"
   ]
  },
  {
   "cell_type": "code",
   "execution_count": 77,
   "metadata": {},
   "outputs": [
    {
     "data": {
      "image/png": "[encoded data removed]",
      "text/plain": [
       "<Figure size 432x288 with 1 Axes>"
      ]
     },
     "metadata": {
      "needs_background": "light"
     },
     "output_type": "display_data"
    }
   ],
   "source": [
    "x=np.random.poisson(lam=1, size=100)\n",
    "#plt.plot(x,'o')\n",
    "a = 5. # shape\n",
    "n = 1000\n",
    "s = np.random.power(a, n)\n",
    "count, bins, ignored = plt.hist(s, bins=30)\n",
    "x = np.linspace(0, 1, 100)\n",
    "y = a*x**(a-1.)\n",
    "normed_y = n*np.diff(bins)[0]*y\n",
    "plt.plot(x, normed_y)\n",
    "plt.show()"
   ]
  },
  {
   "cell_type": "markdown",
   "metadata": {},
   "source": [
    "# The use of Seeds in Generating Pseudorandom Numbers\n",
    "\n",
    "Computers can't generate random numbers.  Computers generate pseudorandom numbers.  Numbers that appear to be random.  However, if you have one key piece of information on the numbers the computer is generating, you can actaully predict the numbers.  This key piece of information is called the seed.\n",
    "\n",
    "A random seed (or seed state, or just seed) is a number (or vector) used to initialize a pseudorandom number generator.\n",
    "For a seed to be used in a pseudorandom number generator, it does not need to be random. Because of the nature of number generating algorithms, so long as the original seed is ignored, the rest of the values that the algorithm generates will follow probability distribution in a pseudorandom manner.\n",
    "\n",
    "The choice of a good random seed is crucial in the field of computer security. When a secret encryption key is pseudorandomly generated, having the seed will allow one to obtain the key. High entropy is important for selecting good random seed data.[1]  If the same random seed is deliberately shared, it becomes a secret key, so two or more systems using matching pseudorandom number algorithms and matching seeds can generate matching sequences of non-repeating numbers which can be used to synchronize remote systems, such as GPS satellites and receivers.\n",
    "\n",
    "Random seeds are often generated from the state of the computer system (such as the time), a cryptographically secure pseudorandom number generator or from a hardware random number generator. (ref: https://en.wikipedia.org/wiki/Random_seed)\n",
    "\n",
    "numpy.random.seed(0) resets the state of the existing global RandomState instance that underlies the functions in the numpy.random namespace.\n",
    "\n",
    "numpy.random.RandomState(0) returns a new seeded RandomState instance but otherwise does not change anything. You have to use the returned RandomState instance to get consistent pseudorandom numbers. If you use the functions in the numpy.random namespace, you will not get consistent pseudorandom numbers because they are pulling from a different RandomState instance than the one you just create (ref: https://stackoverflow.com/questions/37224116/difference-between-randomstate-and-seed-in-numpy)"
   ]
  },
  {
   "cell_type": "code",
   "execution_count": 79,
   "metadata": {},
   "outputs": [
    {
     "data": {
      "text/plain": [
       "array([0.5488135 , 0.71518937, 0.60276338, 0.54488318])"
      ]
     },
     "execution_count": 79,
     "metadata": {},
     "output_type": "execute_result"
    }
   ],
   "source": [
    "np.random.seed(0)\n",
    "np.random.rand(4)"
   ]
  },
  {
   "cell_type": "code",
   "execution_count": 80,
   "metadata": {},
   "outputs": [
    {
     "data": {
      "text/plain": [
       "array([0.5488135 , 0.71518937, 0.60276338, 0.54488318])"
      ]
     },
     "execution_count": 80,
     "metadata": {},
     "output_type": "execute_result"
    }
   ],
   "source": [
    "np.random.seed(0) #makes random numbers predictable\n",
    "np.random.rand(4)"
   ]
  },
  {
   "cell_type": "markdown",
   "metadata": {},
   "source": [
    "### With the seed reset (every time), the same set of numbers will appear every time. If the random seed is not reset, different numbers appear with every invocation:"
   ]
  },
  {
   "cell_type": "code",
   "execution_count": 81,
   "metadata": {},
   "outputs": [
    {
     "data": {
      "text/plain": [
       "array([0.4236548 , 0.64589411, 0.43758721, 0.891773  ])"
      ]
     },
     "execution_count": 81,
     "metadata": {},
     "output_type": "execute_result"
    }
   ],
   "source": [
    "np.random.rand(4)"
   ]
  },
  {
   "cell_type": "code",
   "execution_count": 82,
   "metadata": {},
   "outputs": [
    {
     "data": {
      "text/plain": [
       "array([0.96366276, 0.38344152, 0.79172504, 0.52889492])"
      ]
     },
     "execution_count": 82,
     "metadata": {},
     "output_type": "execute_result"
    }
   ],
   "source": [
    "np.random.rand(4)"
   ]
  },
  {
   "cell_type": "markdown",
   "metadata": {},
   "source": [
    "Pseudorandom numbers work by starting with a number (the seed), multiplying it by a large number, then taking modulo of that product. The resulting number is then used as the seed to generate the next \"random\" number. When you set the seed (every time), it does the same thing every time, giving you the same numbers\n",
    "\n",
    "If you want seemingly random numbers, do not set the seed. If you have code that uses random numbers that you want to debug, however, it can be very helpful to set the seed before each run so that the code does the same thing every time you run it.\n",
    "\n",
    "To get the most random numbers for each run, call numpy.random.seed(). This will cause numpy to set the seed to a random number obtained from /dev/urandom or its Windows analog or, if neither of those is available, it will use the clock (ref: https://stackoverflow.com/questions/21494489/what-does-numpy-random-seed0-do)"
   ]
  },
  {
   "cell_type": "markdown",
   "metadata": {},
   "source": [
    "# References\n",
    "- http://www.numpy.org\n",
    "- https://docs.scipy.org/doc/numpy-1.14.0/reference/routines.random.html\n",
    "- http://blog.cloudera.com/blog/2015/12/common-probability-distributions-the-data-scientists-crib-sheet/\n",
    "- https://en.wikipedia.org/wiki/Probability_density_function\n",
    "- https://en.wikipedia.org/wiki/Uniform_distribution_(continuous)\n",
    "- https://docs.scipy.org/doc/numpy-1.14.0/reference/generated/numpy.random.uniform.html#numpy.random.uniform\n",
    "- https://stackoverflow.com/questions/27644617/difference-between-n-and-size-parameters-in-np-random-binomialn-p-size-1000\n",
    "- https://en.wikipedia.org/wiki/Poisson_distribution\n",
    "- https://www.packtpub.com/mapt/book/application_development/9781783284375/11/ch11lvl1sec167/generating-random-numbers-from-a-poisson-distribution\n",
    "- https://en.wikipedia.org/wiki/Random_seed\n",
    "- https://stackoverflow.com/questions/37224116/difference-between-randomstate-and-seed-in-numpy\n",
    "- https://stackoverflow.com/questions/21494489/what-does-numpy-random-seed0-do"
   ]
  },
  {
   "cell_type": "code",
   "execution_count": null,
   "metadata": {},
   "outputs": [],
   "source": []
  }
 ],
 "metadata": {
  "kernelspec": {
   "display_name": "Python 3",
   "language": "python",
   "name": "python3"
  },
  "language_info": {
   "codemirror_mode": {
    "name": "ipython",
    "version": 3
   },
   "file_extension": ".py",
   "mimetype": "text/x-python",
   "name": "python",
   "nbconvert_exporter": "python",
   "pygments_lexer": "ipython3",
   "version": "3.6.6"
  }
 },
 "nbformat": 4,
 "nbformat_minor": 2
}
