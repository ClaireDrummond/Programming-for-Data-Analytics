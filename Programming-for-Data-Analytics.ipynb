{
 "cells": [
  {
   "cell_type": "markdown",
   "metadata": {},
   "source": [
    "# The numpy.random package"
   ]
  },
  {
   "cell_type": "markdown",
   "metadata": {},
   "source": [
    "## What is NumPy.random\n",
    "\n",
    "NumPy is the fundamental package for scientific computing with Python. It contains among other things:\n",
    "- a powerful N-dimensional array object\n",
    "- sophisticated (broadcasting) functions\n",
    "- tools for integrating C/C++ and Fortran code\n",
    "- useful linear algebra, Fourier transform, and random number capabilities\n",
    "\n",
    "Besides its obvious scientific uses, NumPy can also be used as an efficient multi-dimensional container of generic data. Arbitrary data-types can be defined. This allows NumPy to seamlessly and speedily integrate with a wide variety of databases. (http://www.numpy.org/)\n",
    "\n",
    "Numpy is bascially a maths library for python. Not only does it make basic computation easy, it also enables you to perform complex maths problems.  Numpy is an important package as so many other packages depend on it.  However interacting with it directly is not that common as you typically interact with NumPy through the use of other packages such as Panda's and SciPy.\n",
    "\n",
    "The NumPy.random package is a sub package of the Numpy package in Python.  The NumPy.random pakcage generates random numbers in Python. A computer can't generate random numbers.  It generates pseudorandom numbers, but for this exercise when I talk about random numbers please take it that I mean psuedo random numbers. There are lots of ways to generate different types of random numbers.  This is exactly what NumPy.random does."
   ]
  },
  {
   "cell_type": "markdown",
   "metadata": {},
   "source": [
    "# Simple Random Data & Permutations Functions \n",
    "\n",
    "## Simple Random Data\n",
    "Simple Random Data functions enables you to generate random data for everyday purpose. \n",
    "\n",
    "\n",
    "## Permutations\n",
    "There are two functions here, shuffle and permutation.  Shuffle changes a Numpy array in place where as Permutation doesn't change what you pass into it.\n",
    "\n",
    "### The best way to explain the use of each of these functions is to show examples of these functions in action "
   ]
  },
  {
   "cell_type": "markdown",
   "metadata": {},
   "source": [
    "# Simple Random Data - Rand Function"
   ]
  },
  {
   "cell_type": "code",
   "execution_count": 1,
   "metadata": {},
   "outputs": [
    {
     "data": {
      "text/plain": [
       "array([[0.0808239 , 0.25949476],\n",
       "       [0.94683542, 0.72140428],\n",
       "       [0.76526591, 0.75979749]])"
      ]
     },
     "execution_count": 1,
     "metadata": {},
     "output_type": "execute_result"
    }
   ],
   "source": [
    "import numpy as np #importing the numpy package and renaming it as np\n",
    "np.random.rand(3,2) #here you get an array with 3 rows, 2 columns.  Each time you run the function, you get different numbers"
   ]
  },
  {
   "cell_type": "code",
   "execution_count": 2,
   "metadata": {},
   "outputs": [
    {
     "data": {
      "text/plain": [
       "array([[0.77517728, 0.14696366, 0.5028058 , 0.76586424, 0.51979772,\n",
       "        0.81473396],\n",
       "       [0.16193016, 0.69394768, 0.98718482, 0.33491573, 0.12876912,\n",
       "        0.40313481],\n",
       "       [0.39872734, 0.29287838, 0.9601868 , 0.74693249, 0.6826028 ,\n",
       "        0.92774437],\n",
       "       [0.7979795 , 0.98996054, 0.32794928, 0.06095921, 0.20048618,\n",
       "        0.77275304]])"
      ]
     },
     "execution_count": 2,
     "metadata": {},
     "output_type": "execute_result"
    }
   ],
   "source": [
    "np.random.rand(4,6) #here you get an array with 4 rows, 6 columns"
   ]
  },
  {
   "cell_type": "code",
   "execution_count": 3,
   "metadata": {},
   "outputs": [
    {
     "data": {
      "text/plain": [
       "array([0.85773758, 0.99483159, 0.44293829])"
      ]
     },
     "execution_count": 3,
     "metadata": {},
     "output_type": "execute_result"
    }
   ],
   "source": [
    "np.random.rand(3) #()shows the shape of the array"
   ]
  },
  {
   "cell_type": "markdown",
   "metadata": {},
   "source": [
    "### The rand function gives us random values in a given shape"
   ]
  },
  {
   "cell_type": "code",
   "execution_count": 4,
   "metadata": {},
   "outputs": [
    {
     "data": {
      "text/plain": [
       "(array([ 991.,  958.,  985.,  997., 1056., 1038.,  996., 1013.,  983.,\n",
       "         983.]),\n",
       " array([2.06382772e-04, 1.00169791e-01, 2.00133198e-01, 3.00096606e-01,\n",
       "        4.00060014e-01, 5.00023422e-01, 5.99986829e-01, 6.99950237e-01,\n",
       "        7.99913645e-01, 8.99877053e-01, 9.99840460e-01]),\n",
       " <a list of 10 Patch objects>)"
      ]
     },
     "execution_count": 4,
     "metadata": {},
     "output_type": "execute_result"
    },
    {
     "data": {
      "image/png": "[encoded data removed]",
      "text/plain": [
       "<Figure size 432x288 with 1 Axes>"
      ]
     },
     "metadata": {
      "needs_background": "light"
     },
     "output_type": "display_data"
    }
   ],
   "source": [
    "%matplotlib inline\n",
    "\n",
    "import matplotlib.pyplot as plt\n",
    "\n",
    "\n",
    "x = np.random.rand(10000)\n",
    "plt.hist(x)\n"
   ]
  },
  {
   "cell_type": "markdown",
   "metadata": {},
   "source": [
    "### From the histogram, we can see that the rand function, creates an array of the given shape and populates it with random samples from a uniform distribution"
   ]
  },
  {
   "cell_type": "markdown",
   "metadata": {},
   "source": [
    "# Simple Random Data - random_sample Function"
   ]
  },
  {
   "cell_type": "code",
   "execution_count": 5,
   "metadata": {},
   "outputs": [
    {
     "data": {
      "text/plain": [
       "0.1412714543027329"
      ]
     },
     "execution_count": 5,
     "metadata": {},
     "output_type": "execute_result"
    }
   ],
   "source": [
    "np.random.random_sample() #Return random floats in the half-open interval [0.0, 1.0). \n",
    "#Results are from the “continuous uniform” distribution over the stated interval"
   ]
  },
  {
   "cell_type": "code",
   "execution_count": 6,
   "metadata": {},
   "outputs": [
    {
     "data": {
      "text/plain": [
       "array([[0.44638868, 0.4285942 , 0.6565168 , 0.94772472],\n",
       "       [0.2271626 , 0.57325314, 0.61468633, 0.41518675]])"
      ]
     },
     "execution_count": 6,
     "metadata": {},
     "output_type": "execute_result"
    }
   ],
   "source": [
    "np.random.random_sample((2, 4))"
   ]
  },
  {
   "cell_type": "code",
   "execution_count": 7,
   "metadata": {},
   "outputs": [
    {
     "data": {
      "text/plain": [
       "array([0.90473838, 0.79832435, 0.22299993, 0.73594519, 0.72306628])"
      ]
     },
     "execution_count": 7,
     "metadata": {},
     "output_type": "execute_result"
    }
   ],
   "source": [
    "np.random.random_sample((5,))\n"
   ]
  },
  {
   "cell_type": "code",
   "execution_count": 8,
   "metadata": {},
   "outputs": [
    {
     "data": {
      "text/plain": [
       "array([[-5.40906409, -5.42092236],\n",
       "       [-5.84990358, -5.58842799],\n",
       "       [-5.90919862, -5.22796306]])"
      ]
     },
     "execution_count": 8,
     "metadata": {},
     "output_type": "execute_result"
    }
   ],
   "source": [
    "np.random.random_sample((3, 2)) - 6 #Three-by-two array of random numbers from (-6, 0)"
   ]
  },
  {
   "cell_type": "markdown",
   "metadata": {},
   "source": [
    "# Simple Random Data - random.choice\n",
    "\n",
    "Generates a random sample from a given 1-D array"
   ]
  },
  {
   "cell_type": "code",
   "execution_count": 9,
   "metadata": {},
   "outputs": [
    {
     "data": {
      "text/plain": [
       "array([2, 4, 0, 1, 1, 1, 2, 0])"
      ]
     },
     "execution_count": 9,
     "metadata": {},
     "output_type": "execute_result"
    }
   ],
   "source": [
    " np.random.choice(5, 8) # creates a random sample from numbers 0 - 5 (not incl 5), 8 numbers"
   ]
  },
  {
   "cell_type": "code",
   "execution_count": 10,
   "metadata": {},
   "outputs": [
    {
     "data": {
      "text/plain": [
       "array([3, 1, 3, 5])"
      ]
     },
     "execution_count": 10,
     "metadata": {},
     "output_type": "execute_result"
    }
   ],
   "source": [
    "np.random.choice(6, 4) # creates a random sample from numbers 0 - 6 (not incl 6),4 numbers"
   ]
  },
  {
   "cell_type": "code",
   "execution_count": 11,
   "metadata": {},
   "outputs": [
    {
     "data": {
      "text/plain": [
       "array([0, 1])"
      ]
     },
     "execution_count": 11,
     "metadata": {},
     "output_type": "execute_result"
    }
   ],
   "source": [
    "np.random.choice(3, 2) # creates a random sample from numbers 0 - 3 (not incl 3), 2 numbers"
   ]
  },
  {
   "cell_type": "code",
   "execution_count": 12,
   "metadata": {},
   "outputs": [
    {
     "data": {
      "text/plain": [
       "(1, 2)"
      ]
     },
     "execution_count": 12,
     "metadata": {},
     "output_type": "execute_result"
    }
   ],
   "source": [
    "x = [(1,2),(4,3),(6,9)]\n",
    "x[np.random.choice(len(x))] # of the variables in x, choose a random set"
   ]
  },
  {
   "cell_type": "code",
   "execution_count": 13,
   "metadata": {},
   "outputs": [
    {
     "data": {
      "text/plain": [
       "(1, 2)"
      ]
     },
     "execution_count": 13,
     "metadata": {},
     "output_type": "execute_result"
    }
   ],
   "source": [
    "x[np.random.choice(len(x))]"
   ]
  },
  {
   "cell_type": "markdown",
   "metadata": {},
   "source": [
    "# Permutations - Shuffle\n",
    "\n",
    "Modifies a sequence in-place by shuffling its contents.  This function only shuffles the array along the first axis of a multi-dimensional array. The order of sub-arrays is changed but their contents remains the same"
   ]
  },
  {
   "cell_type": "code",
   "execution_count": 14,
   "metadata": {},
   "outputs": [
    {
     "data": {
      "text/plain": [
       "array([7, 6, 9, 1, 8, 2, 3, 5, 0, 4])"
      ]
     },
     "execution_count": 14,
     "metadata": {},
     "output_type": "execute_result"
    }
   ],
   "source": [
    "arr = np.arange(10) # an arrray of 10 numbers\n",
    "np.random.shuffle(arr) #random.shuffle changes the order\n",
    "arr"
   ]
  },
  {
   "cell_type": "code",
   "execution_count": 15,
   "metadata": {},
   "outputs": [
    {
     "data": {
      "text/plain": [
       "array([16, 11, 19,  0,  3,  4, 15, 14, 18, 12, 17,  5,  1,  8,  6, 13,  2,\n",
       "        9, 10,  7])"
      ]
     },
     "execution_count": 15,
     "metadata": {},
     "output_type": "execute_result"
    }
   ],
   "source": [
    "arr = np.arange(20) # an arrray of 20 numbers\n",
    "np.random.shuffle(arr) #random.shuffle changes the order\n",
    "arr"
   ]
  },
  {
   "cell_type": "code",
   "execution_count": 16,
   "metadata": {},
   "outputs": [
    {
     "data": {
      "text/plain": [
       "array([[ 4,  5,  6,  7],\n",
       "       [ 0,  1,  2,  3],\n",
       "       [ 8,  9, 10, 11]])"
      ]
     },
     "execution_count": 16,
     "metadata": {},
     "output_type": "execute_result"
    }
   ],
   "source": [
    "arr = np.arange(12).reshape((3, 4)) # an array of 12 numbers, shuffled, displayed  row 3 x Column 4\n",
    "np.random.shuffle(arr)\n",
    "arr"
   ]
  },
  {
   "cell_type": "code",
   "execution_count": 17,
   "metadata": {},
   "outputs": [
    {
     "data": {
      "text/plain": [
       "array([[0, 1, 2, 3, 4, 5, 6, 7, 8]])"
      ]
     },
     "execution_count": 17,
     "metadata": {},
     "output_type": "execute_result"
    }
   ],
   "source": [
    "arr = np.arange(9).reshape((1,9)) # an array of 9 numbers, shuffled, displayed row 1 x column 9\n",
    "np.random.shuffle(arr)\n",
    "arr"
   ]
  },
  {
   "cell_type": "markdown",
   "metadata": {},
   "source": [
    "# Permutations - Permutation\n",
    "\n",
    "Randomly permute a sequence, or return a permuted range.  If x is a multi-dimensional array, it is only shuffled along its first index.  If x is an integer, randomly permute np.arange(x). If x is an array, make a copy and shuffle the elements randomly"
   ]
  },
  {
   "cell_type": "code",
   "execution_count": 18,
   "metadata": {},
   "outputs": [
    {
     "data": {
      "text/plain": [
       "array([11,  8,  5,  2,  7,  6,  1, 12, 14,  4,  0,  9, 10,  3, 13])"
      ]
     },
     "execution_count": 18,
     "metadata": {},
     "output_type": "execute_result"
    }
   ],
   "source": [
    " np.random.permutation(15)"
   ]
  },
  {
   "cell_type": "code",
   "execution_count": 19,
   "metadata": {},
   "outputs": [
    {
     "data": {
      "text/plain": [
       "array([ 4,  1,  9, 12, 15])"
      ]
     },
     "execution_count": 19,
     "metadata": {},
     "output_type": "execute_result"
    }
   ],
   "source": [
    " np.random.permutation([1, 4, 9, 12, 15])"
   ]
  },
  {
   "cell_type": "code",
   "execution_count": 20,
   "metadata": {},
   "outputs": [
    {
     "data": {
      "text/plain": [
       "array([[ 8,  9, 10, 11],\n",
       "       [ 4,  5,  6,  7],\n",
       "       [12, 13, 14, 15],\n",
       "       [ 0,  1,  2,  3]])"
      ]
     },
     "execution_count": 20,
     "metadata": {},
     "output_type": "execute_result"
    }
   ],
   "source": [
    "arr = np.arange(16).reshape((4, 4))\n",
    "np.random.permutation(arr)\n"
   ]
  },
  {
   "cell_type": "markdown",
   "metadata": {},
   "source": [
    "### np.random.permutation has two differences from np.random.shuffle\n",
    "- if passed an array, it will return a shuffled copy of the array; np.random.shuffle shuffles the array inplace\n",
    "- if passed an integer, it will return a shuffled range i.e. np.random.shuffle(np.arange(n))"
   ]
  },
  {
   "attachments": {
    "dist.PNG": {
     "image/png": "[encoded data removed]"
    }
   },
   "cell_type": "markdown",
   "metadata": {},
   "source": [
    "# What’s a Probability Distribution?\n",
    "\n",
    "Things happen all the time: dice are rolled, it rains, buses arrive. After the fact, the specific outcomes are certain: the dice came up 3 and 4, there was half an inch of rain today, the bus took 3 minutes to arrive. Before, we can only talk about how likely the outcomes are. Probability distributions describe what we think the probability of each outcome is, which is sometimes more interesting to know than simply which single outcome is most likely. They come in many shapes, but in only one size: probabilities in a distribution always add up to 1. (ref: http://blog.cloudera.com/blog/2015/12/common-probability-distributions-the-data-scientists-crib-sheet/).  The common distributions tend to relate to each other in one way or antoher.  Below is a map of their relationships:\n",
    "\n",
    "\n",
    "![dist.PNG](attachment:dist.PNG)"
   ]
  },
  {
   "cell_type": "markdown",
   "metadata": {},
   "source": [
    "Each distribution is illustrated by an example of its probability density function (PDF).  In probability theory, a probability density function (PDF), or density of a continuous random variable, is a function, whose value at any given sample (or point) in the sample space (the set of possible values taken by the random variable) can be interpreted as providing a relative likelihood that the value of the random variable would equal that sample. (ref: https://en.wikipedia.org/wiki/Probability_density_function)\n",
    "\n",
    "Random sampling in Numpy has different functions for displaying the different probability distributions.  I will focus on 5 of these distributions and explain the purpose of each distribution with the help of graphs."
   ]
  },
  {
   "cell_type": "markdown",
   "metadata": {},
   "source": [
    "# Distributions"
   ]
  },
  {
   "cell_type": "markdown",
   "metadata": {},
   "source": [
    "## Uniform Distribution\n",
    "\n",
    "Continuous Uniform Random Variables are used to model a scenario where a continuous random variable can take values that are equally distributed (with equal probability) in an interval.\n",
    "\n",
    "Samples are uniformly distributed over the half-open interval [low, high) (includes low, but excludes high). In other words, any value within the given interval is equally likely to be drawn by uniform. (ref: https://docs.scipy.org/doc/numpy-1.14.0/reference/generated/numpy.random.uniform.html#numpy.random.uniform"
   ]
  },
  {
   "cell_type": "code",
   "execution_count": 21,
   "metadata": {},
   "outputs": [
    {
     "data": {
      "text/plain": [
       "array([-8.69832199e-02, -6.85647033e-02, -4.80649523e-01, -5.20044435e-01,\n",
       "       -4.79868035e-02, -9.89979411e-01, -1.28711380e-01, -5.43412410e-01,\n",
       "       -2.17098660e-01, -6.79090600e-02, -7.67850834e-01, -2.46114046e-01,\n",
       "       -3.19350559e-01, -1.32497063e-01, -5.58398801e-01, -2.95939493e-02,\n",
       "       -4.61629345e-01, -8.60369713e-01, -5.82157411e-01, -3.72711161e-01,\n",
       "       -3.70435795e-01, -9.65497609e-02, -1.89549684e-01, -6.99795828e-02,\n",
       "       -6.38972981e-01, -4.90546902e-02, -5.98454317e-01, -5.82343712e-01,\n",
       "       -6.86370776e-01, -1.95949091e-02, -4.66848937e-01, -3.08629745e-01,\n",
       "       -5.00973730e-01, -7.44462001e-01, -9.91434616e-01, -8.59067145e-01,\n",
       "       -1.05792600e-02, -6.70190874e-01, -3.57465195e-02, -3.32675695e-01,\n",
       "       -9.25555688e-01, -7.85435290e-01, -1.11456323e-01, -7.20505297e-01,\n",
       "       -8.86860965e-01, -2.48870189e-01, -8.92633306e-01, -5.76258954e-01,\n",
       "       -4.95342963e-01, -3.93599633e-01, -4.21249970e-01, -8.10061562e-04,\n",
       "       -2.71241201e-01, -8.36835201e-01, -9.34836295e-02, -4.59093942e-01,\n",
       "       -4.34751914e-01, -8.15172456e-01, -2.66687355e-01, -1.34421497e-01,\n",
       "       -6.98394062e-01, -3.18864659e-01, -2.48699435e-01, -5.12299294e-01,\n",
       "       -9.26890411e-01, -1.64944510e-01, -7.95209327e-01, -8.84769750e-01,\n",
       "       -9.40401974e-01, -1.11692537e-01, -1.93236163e-01, -2.88382111e-01,\n",
       "       -2.28979018e-01, -9.88069153e-01, -6.03643152e-01, -1.56105688e-01,\n",
       "       -3.09769538e-01, -4.83002436e-01, -3.86883629e-01, -4.33605638e-01,\n",
       "       -6.93121422e-01, -3.37214892e-01, -4.43368690e-01, -9.05532424e-01,\n",
       "       -9.66189874e-01, -8.70013151e-02, -6.85528944e-01, -4.00840179e-02,\n",
       "       -8.07398322e-01, -7.39474738e-02, -2.14146572e-02, -8.45762929e-01,\n",
       "       -9.12776459e-01, -4.53775932e-01, -2.92266383e-01, -5.61439397e-01,\n",
       "       -3.24029652e-01, -1.99418648e-02, -1.01852487e-01, -8.69601104e-01])"
      ]
     },
     "execution_count": 21,
     "metadata": {},
     "output_type": "execute_result"
    }
   ],
   "source": [
    "np.random.uniform(-1, 0, 100) #low=-1, High=0, Size=100"
   ]
  },
  {
   "cell_type": "code",
   "execution_count": 22,
   "metadata": {},
   "outputs": [
    {
     "data": {
      "text/plain": [
       "array([4.65440564, 4.18703651, 3.71920819, 3.6954335 , 4.96002565,\n",
       "       3.52852737, 2.55609404, 3.16984334, 3.32275077, 2.73167191])"
      ]
     },
     "execution_count": 22,
     "metadata": {},
     "output_type": "execute_result"
    }
   ],
   "source": [
    "np.random.uniform(2, 5, 10) #low=-2, High=5, Size=10"
   ]
  },
  {
   "cell_type": "code",
   "execution_count": 23,
   "metadata": {},
   "outputs": [
    {
     "data": {
      "text/plain": [
       "array([2.46606967, 2.75106555, 2.31673349, 2.3748847 , 2.54186543,\n",
       "       2.16776274, 2.96372489, 2.79052409, 2.06934929, 2.32711195])"
      ]
     },
     "execution_count": 23,
     "metadata": {},
     "output_type": "execute_result"
    }
   ],
   "source": [
    "np.random.uniform(2, 3, 10)"
   ]
  },
  {
   "cell_type": "code",
   "execution_count": 24,
   "metadata": {},
   "outputs": [
    {
     "data": {
      "text/plain": [
       "(array([107.,  90.,  94., 103., 100., 100.,  98.,  88., 114., 106.]),\n",
       " array([ 0.12086428, 10.10644526, 20.09202625, 30.07760724, 40.06318823,\n",
       "        50.04876922, 60.0343502 , 70.01993119, 80.00551218, 89.99109317,\n",
       "        99.97667416]),\n",
       " <a list of 10 Patch objects>)"
      ]
     },
     "execution_count": 24,
     "metadata": {},
     "output_type": "execute_result"
    },
    {
     "data": {
      "image/png": "[encoded data removed]",
      "text/plain": [
       "<Figure size 432x288 with 1 Axes>"
      ]
     },
     "metadata": {
      "needs_background": "light"
     },
     "output_type": "display_data"
    }
   ],
   "source": [
    "%matplotlib inline\n",
    "\n",
    "import matplotlib.pyplot as plt\n",
    "\n",
    "x = np.random.uniform(0, 100, 1000)\n",
    "plt.hist(x)"
   ]
  },
  {
   "cell_type": "markdown",
   "metadata": {},
   "source": [
    "Uniform Distribution: In probability theory and statistics, the continuous uniform distribution or rectangular distribution is a family of symmetric probability distributions such that for each member of the family, all intervals of the same length on the distribution's support are equally probable (ref:https://en.wikipedia.org/wiki/Uniform_distribution_(continuous)"
   ]
  },
  {
   "cell_type": "markdown",
   "metadata": {},
   "source": [
    "## Normal Distribution\n",
    "\n",
    "The normal distribution is the most widely known and used of all distributions. Because the normal distribution approximates many natural phenomena so well, it has developed into a standard of reference for many probability problems.\n",
    "\n",
    "The probability density function of the normal distribution is often called the bell curve because of its characteristic shape.  A normal distribution is a distribution that occurs naturally in many situations (exams, peoples weight). The bell curve is symmetrical. Half of the data will fall to the left of the mean; half will fall to the right."
   ]
  },
  {
   "cell_type": "code",
   "execution_count": 25,
   "metadata": {},
   "outputs": [
    {
     "data": {
      "text/plain": [
       "array([ 0.10577982,  0.07616521, -0.07147064, -0.00518017,  0.02572647,\n",
       "       -0.02573341, -0.11581772,  0.10494422, -0.05640927,  0.10286455,\n",
       "       -0.04580402,  0.05381048, -0.08588985, -0.06291441, -0.05452569,\n",
       "       -0.0312864 ,  0.05407205,  0.01147908, -0.0296237 ,  0.04766627,\n",
       "        0.0154041 , -0.07012839,  0.03038766,  0.02600507,  0.04803778,\n",
       "       -0.10583885,  0.0558359 ,  0.10940273,  0.07168892, -0.12614835,\n",
       "       -0.0266544 ,  0.00134675,  0.02558928, -0.0505064 ,  0.05757432,\n",
       "       -0.04417281, -0.16551432,  0.17032623,  0.08217333,  0.10987011,\n",
       "       -0.04805808,  0.00056563,  0.02217692, -0.01583924,  0.01583401,\n",
       "        0.10967218,  0.00338077, -0.0043992 ,  0.04776255, -0.20274542])"
      ]
     },
     "execution_count": 25,
     "metadata": {},
     "output_type": "execute_result"
    }
   ],
   "source": [
    "np.random.normal(0, 0.1, 50) #loc(mean)=0, scale=0.1, size=50"
   ]
  },
  {
   "cell_type": "code",
   "execution_count": 26,
   "metadata": {},
   "outputs": [
    {
     "data": {
      "text/plain": [
       "array([ 6.17268885, 14.38530349,  4.61090501,  0.78745755,  7.74094585,\n",
       "        7.01423871,  3.49990542,  3.11588689,  7.53688755, 12.29080553,\n",
       "        0.5623846 ,  6.21567261,  6.44328289, 10.01732657,  6.38489471,\n",
       "        4.84884354,  0.39091392,  3.24603852,  8.32947628,  6.62869372,\n",
       "        5.97809773,  5.51276129,  6.63727245,  1.02026022,  6.18864908,\n",
       "        8.66515296,  0.7534618 ,  7.67110735, -3.08799113,  7.32280019,\n",
       "        0.39390378,  7.20611325,  5.04802008,  3.39094603,  4.19270421,\n",
       "        9.16556646,  8.34337365, 10.14036914,  4.62747428,  6.09843517,\n",
       "        7.30528266,  4.96137616,  4.49278977,  1.14509974,  1.58986328,\n",
       "        5.5022161 ,  7.59260277,  6.00936517,  2.60657929,  4.79913864])"
      ]
     },
     "execution_count": 26,
     "metadata": {},
     "output_type": "execute_result"
    }
   ],
   "source": [
    "np.random.normal(5, 3, 50) #loc(mean)=5, scale(std dev.)=3, size=50"
   ]
  },
  {
   "cell_type": "code",
   "execution_count": 27,
   "metadata": {},
   "outputs": [
    {
     "data": {
      "text/plain": [
       "(array([ 2.,  5.,  8., 20., 14., 22., 12.,  8.,  3.,  6.]),\n",
       " array([-1.3895744 , -0.0870305 ,  1.21551339,  2.51805728,  3.82060117,\n",
       "         5.12314506,  6.42568895,  7.72823284,  9.03077673, 10.33332063,\n",
       "        11.63586452]),\n",
       " <a list of 10 Patch objects>)"
      ]
     },
     "execution_count": 27,
     "metadata": {},
     "output_type": "execute_result"
    },
    {
     "data": {
      "image/png": "[encoded data removed]",
      "text/plain": [
       "<Figure size 432x288 with 1 Axes>"
      ]
     },
     "metadata": {
      "needs_background": "light"
     },
     "output_type": "display_data"
    }
   ],
   "source": [
    "x = np.random.normal(5, 3, 100)\n",
    "plt.hist(x)"
   ]
  },
  {
   "cell_type": "markdown",
   "metadata": {},
   "source": [
    "## Uniform Distribution Versus Normal Distribution\n",
    "\n",
    "With uniform distribution, each number in the range is equally (\"uniformly\") likely to be picked.  Where as with normal Distribution, numbers close to the mean are much more likely to be picked than those far away from the mean."
   ]
  },
  {
   "cell_type": "markdown",
   "metadata": {},
   "source": [
    "# Binomial Distribution\n",
    "\n",
    "The binomial distribution model is an important probability model that is used when there are two possible outcomes (hence \"binomial\"). ... As a result, whenever using the binomial distribution, we must clearly specify which outcome is the \"success\" and which is the \"failure\" (ref:http://sphweb.bumc.bu.edu/otlt/MPH-Modules/BS/BS704_Probability/BS704_Probability7.html)\n",
    "\n",
    "A random variable X that has a binomial distribution represents the number of successes in a sequence of n independent yes/no trials, each of which yields success with probability p.\n",
    "\n",
    "A binomial random variable counts how often a particular event occurs in a fixed number of tries or trials.\n",
    "n = number of trials\n",
    "p = probability event of interest occurs on any one trial\n",
    "size = number of times you want to run this experiment\n",
    "\n",
    "Suppose, You wanna check how many times you will get six if you roll dice 10 times. Here, n = 10, p = (1/6) probability of getting six in each roll. But, You have to do this experiment multiple times.\n",
    "In 1st experiment, you get 3 six, In 2nd experiment, you get 2 six, In 3rd experiment, you get 2 six, In Pth experiment, you get 2 six, here P is the size. (ref: https://stackoverflow.com/questions/27644617/difference-between-n-and-size-parameters-in-np-random-binomialn-p-size-1000)\n",
    "\n",
    "\n"
   ]
  },
  {
   "cell_type": "code",
   "execution_count": 28,
   "metadata": {},
   "outputs": [
    {
     "data": {
      "text/plain": [
       "(array([  1.,   6.,  42., 137., 201., 248., 186., 128.,  37.,  14.]),\n",
       " array([ 0.,  1.,  2.,  3.,  4.,  5.,  6.,  7.,  8.,  9., 10.]),\n",
       " <a list of 10 Patch objects>)"
      ]
     },
     "execution_count": 28,
     "metadata": {},
     "output_type": "execute_result"
    },
    {
     "data": {
      "image/png": "[encoded data removed]",
      "text/plain": [
       "<Figure size 432x288 with 1 Axes>"
      ]
     },
     "metadata": {
      "needs_background": "light"
     },
     "output_type": "display_data"
    }
   ],
   "source": [
    "n, p = 10, .5  # number of trials, probability of each trial\n",
    "s = np.random.binomial(n, p, 1000)\n",
    "plt.hist(s)\n",
    "# result of flipping a coin 10 times, tested 1000 times."
   ]
  },
  {
   "cell_type": "code",
   "execution_count": 29,
   "metadata": {},
   "outputs": [
    {
     "data": {
      "text/plain": [
       "(array([22.,  0.,  0., 26.,  0.,  0.,  1.,  0.,  0.,  1.]),\n",
       " array([0. , 0.3, 0.6, 0.9, 1.2, 1.5, 1.8, 2.1, 2.4, 2.7, 3. ]),\n",
       " <a list of 10 Patch objects>)"
      ]
     },
     "execution_count": 29,
     "metadata": {},
     "output_type": "execute_result"
    },
    {
     "data": {
      "image/png": "[encoded data removed]",
      "text/plain": [
       "<Figure size 432x288 with 1 Axes>"
      ]
     },
     "metadata": {
      "needs_background": "light"
     },
     "output_type": "display_data"
    }
   ],
   "source": [
    "#A company drills 9 wild-cat oil exploration wells, each with an estimated probability of success of 0.1. All nine wells fail. What is the probability of that happening?\n",
    "#Let’s do 50 trials of the model, and count the number that generate zero positive results.\n",
    "x = np.random.binomial(9, 0.1, 50)\n",
    "plt.hist(x)\n"
   ]
  },
  {
   "cell_type": "code",
   "execution_count": 30,
   "metadata": {},
   "outputs": [
    {
     "data": {
      "text/plain": [
       "0.38655"
      ]
     },
     "execution_count": 30,
     "metadata": {},
     "output_type": "execute_result"
    }
   ],
   "source": [
    "#A company drills 9 wild-cat oil exploration wells, each with an estimated probability of success of 0.1. All nine wells fail. What is the probability of that happening?\n",
    "#Let’s do 20,0000 trials of the model, and count the number that generate zero positive results.\n",
    "\n",
    "\n",
    "sum(np.random.binomial(9, 0.1, 20000) == 0)/20000\n"
   ]
  },
  {
   "cell_type": "markdown",
   "metadata": {},
   "source": [
    "# Poisson Distribution\n",
    "\n",
    "A Poisson distribution is a tool that helps to predict the probability of certain events from happening when you know how often the event has occurred. It gives us the probability of a given number of events happening in a fixed interval of time.\n",
    "\n",
    "The Poisson distribution is a discrete probability distribution that expresses the probability of a given number of events occurring in a fixed interval of time or space if these events occur with a known constant rate and independently of the time since the last event The Poisson distribution can also be used for the number of events in other specified intervals such as distance, area or volume. (ref: https://en.wikipedia.org/wiki/Poisson_distribution)"
   ]
  },
  {
   "cell_type": "code",
   "execution_count": 34,
   "metadata": {},
   "outputs": [
    {
     "data": {
      "text/plain": [
       "array([ 9,  3,  4,  4,  1,  4,  7, 10,  7,  8, 12,  5,  7,  8,  8,  4,  5,\n",
       "        6,  3,  7])"
      ]
     },
     "execution_count": 34,
     "metadata": {},
     "output_type": "execute_result"
    }
   ],
   "source": [
    "x = np.random.poisson(5, 20)\n",
    "x"
   ]
  },
  {
   "cell_type": "code",
   "execution_count": 35,
   "metadata": {},
   "outputs": [
    {
     "data": {
      "text/plain": [
       "(array([43.,  0., 34.,  0.,  0., 15.,  0.,  4.,  0.,  4.]),\n",
       " array([0. , 0.4, 0.8, 1.2, 1.6, 2. , 2.4, 2.8, 3.2, 3.6, 4. ]),\n",
       " <a list of 10 Patch objects>)"
      ]
     },
     "execution_count": 35,
     "metadata": {},
     "output_type": "execute_result"
    },
    {
     "data": {
      "image/png": "[encoded data removed]",
      "text/plain": [
       "<Figure size 432x288 with 1 Axes>"
      ]
     },
     "metadata": {
      "needs_background": "light"
     },
     "output_type": "display_data"
    }
   ],
   "source": [
    "x =np.random.poisson(1, 100)\n",
    "plt.hist(x)"
   ]
  },
  {
   "cell_type": "markdown",
   "metadata": {},
   "source": [
    "## Generating random numbers from a Poisson distribution\n",
    "To investigate the impact of private information, Easley, Kiefer, O'Hara, and Paperman (1996) designed a (PIN) Probability of informed trading measure that is derived based on the daily number of buyer-initiated trades and the number of seller-initiated trades. The fundamental aspect of their model is to assume that order arrivals follow a Poisson distribution. The following code shows how to generate n random numbers from a Poisson distribution. ref https://www.packtpub.com/mapt/book/application_development/9781783284375/11/ch11lvl1sec167/generating-random-numbers-from-a-poisson-distribution"
   ]
  },
  {
   "cell_type": "code",
   "execution_count": 36,
   "metadata": {},
   "outputs": [
    {
     "data": {
      "image/png": "[encoded data removed]",
      "text/plain": [
       "<Figure size 432x288 with 1 Axes>"
      ]
     },
     "metadata": {
      "needs_background": "light"
     },
     "output_type": "display_data"
    }
   ],
   "source": [
    "x=np.random.poisson(lam=1, size=100)\n",
    "#plt.plot(x,'o')\n",
    "a = 5. # shape\n",
    "n = 1000\n",
    "s = np.random.power(a, n)\n",
    "count, bins, ignored = plt.hist(s, bins=30)\n",
    "x = np.linspace(0, 1, 100)\n",
    "y = a*x**(a-1.)\n",
    "normed_y = n*np.diff(bins)[0]*y\n",
    "plt.plot(x, normed_y)\n",
    "plt.show()"
   ]
  },
  {
   "cell_type": "markdown",
   "metadata": {},
   "source": [
    "### Poisson versus Binomial Distribution\n",
    "It can be challenging to figure out if you should use a binomial distribution or a Poisson distribution.\n",
    "\n",
    "If your question has an average probability of an event happening per unit (i.e. per unit of time, cycle, event) and you want to find probability of a certain number of events happening in a period of time (or number of events), then use the Poisson Distribution.\n",
    "\n",
    "If you are given an exact probability and you want to find the probability of the event happening a certain number out times out of x (i.e. 10 times out of 100, or 99 times out of 1000), use the Binomial Distribution formula. (ref: https://www.statisticshowto.datasciencecentral.com/poisson-distribution/)"
   ]
  },
  {
   "cell_type": "markdown",
   "metadata": {},
   "source": [
    "# Power Distribution\n",
    "\n",
    "Draws samples in 0,1 from a power distribution with positive exponent a - 1.\n",
    "Also known as the power function distribution. The power function distribution is just the inverse of the Pareto distribution.\n",
    "\n",
    "This function is used in modeling the over-reporting of insurance claims\n",
    "\n",
    "It is a quick method to compute 'to the power of..'"
   ]
  },
  {
   "cell_type": "code",
   "execution_count": 42,
   "metadata": {},
   "outputs": [
    {
     "name": "stdout",
     "output_type": "stream",
     "text": [
      "[      8     729 5764801]\n"
     ]
    }
   ],
   "source": [
    "# 2 arrays, using np.power to compute [2**3 , 3**6, 7**8]\n",
    "\n",
    "a = [2, 3, 7]\n",
    "b = [3, 6, 8]\n",
    "\n",
    "print(np.power(a, b))"
   ]
  },
  {
   "cell_type": "code",
   "execution_count": 31,
   "metadata": {},
   "outputs": [
    {
     "data": {
      "text/plain": [
       "array([0.82490223, 0.84064733, 0.91222037, 0.97897095, 0.94086689,\n",
       "       0.82912642, 0.94747676, 0.88359878, 0.85153484, 0.84520823,\n",
       "       0.66595269, 0.79836144, 0.91423814, 0.69122263, 0.81373394,\n",
       "       0.91969101, 0.54141131, 0.89721694, 0.98853858, 0.69976879,\n",
       "       0.81959896, 0.97069723, 0.70323804, 0.65529957, 0.85617242,\n",
       "       0.91482626, 0.43637327, 0.88470805, 0.94720625, 0.75882926,\n",
       "       0.9967116 , 0.96411674, 0.9970896 , 0.91174009, 0.95673338,\n",
       "       0.97817398, 0.51825699, 0.92035991, 0.89290099, 0.9623817 ,\n",
       "       0.9816365 , 0.84459808, 0.78538514, 0.75055474, 0.85465686,\n",
       "       0.94867838, 0.3508857 , 0.81674962, 0.8535113 , 0.55482765])"
      ]
     },
     "execution_count": 31,
     "metadata": {},
     "output_type": "execute_result"
    }
   ],
   "source": [
    "a = 4. # shape\n",
    "samples = 50\n",
    "s = np.random.power(a, samples) # unsing np.random to select 50 random samples\n",
    "s"
   ]
  },
  {
   "cell_type": "code",
   "execution_count": 32,
   "metadata": {},
   "outputs": [
    {
     "data": {
      "text/plain": [
       "(array([  2.,   3.,   9.,  21.,  44.,  60., 115., 186., 242., 318.]),\n",
       " array([0.20395988, 0.28355432, 0.36314876, 0.4427432 , 0.52233764,\n",
       "        0.60193208, 0.68152652, 0.76112096, 0.8407154 , 0.92030984,\n",
       "        0.99990428]),\n",
       " <a list of 10 Patch objects>)"
      ]
     },
     "execution_count": 32,
     "metadata": {},
     "output_type": "execute_result"
    },
    {
     "data": {
      "image/png": "[encoded data removed]",
      "text/plain": [
       "<Figure size 432x288 with 1 Axes>"
      ]
     },
     "metadata": {
      "needs_background": "light"
     },
     "output_type": "display_data"
    }
   ],
   "source": [
    "a = 5. # shape\n",
    "samples = 1000\n",
    "s = np.random.power(a, samples)\n",
    "plt.hist(s)"
   ]
  },
  {
   "cell_type": "code",
   "execution_count": 33,
   "metadata": {},
   "outputs": [
    {
     "data": {
      "image/png": "[encoded data removed]",
      "text/plain": [
       "<Figure size 432x288 with 1 Axes>"
      ]
     },
     "metadata": {
      "needs_background": "light"
     },
     "output_type": "display_data"
    }
   ],
   "source": [
    "#Display the histogram of the samples, along with the probability density function \n",
    "#ref: https://docs.scipy.org/doc/numpy-1.14.0/reference/generated/numpy.random.power.html#numpy.random.power\n",
    "count, bins, ignored = plt.hist(s, bins=30)\n",
    "x = np.linspace(0, 1, 100)\n",
    "y = a*x**(a-1.)\n",
    "normed_y = samples*np.diff(bins)[0]*y\n",
    "plt.plot(x, normed_y)\n",
    "plt.show()"
   ]
  },
  {
   "cell_type": "markdown",
   "metadata": {},
   "source": [
    "# The use of Seeds in Generating Pseudorandom Numbers\n",
    "\n",
    "Computers can't generate random numbers.  Computers generate pseudorandom numbers.  Numbers that appear to be random.  However, if you have one key piece of information on the numbers the computer is generating, you can actaully predict the numbers.  This key piece of information is called the seed.\n",
    "\n",
    "A random seed (or seed state, or just seed) is a number (or vector) used to initialize a pseudorandom number generator.\n",
    "For a seed to be used in a pseudorandom number generator, it does not need to be random. Because of the nature of number generating algorithms, so long as the original seed is ignored, the rest of the values that the algorithm generates will follow probability distribution in a pseudorandom manner.\n",
    "\n",
    "The choice of a good random seed is crucial in the field of computer security. When a secret encryption key is pseudorandomly generated, having the seed will allow one to obtain the key. High entropy is important for selecting good random seed data.[1]  If the same random seed is deliberately shared, it becomes a secret key, so two or more systems using matching pseudorandom number algorithms and matching seeds can generate matching sequences of non-repeating numbers which can be used to synchronize remote systems, such as GPS satellites and receivers.\n",
    "\n",
    "Random seeds are often generated from the state of the computer system (such as the time), a cryptographically secure pseudorandom number generator or from a hardware random number generator. (ref: https://en.wikipedia.org/wiki/Random_seed)\n",
    "\n",
    "numpy.random.seed(0) resets the state of the existing global RandomState instance that underlies the functions in the numpy.random namespace.\n",
    "\n",
    "numpy.random.RandomState(0) returns a new seeded RandomState instance but otherwise does not change anything. You have to use the returned RandomState instance to get consistent pseudorandom numbers. If you use the functions in the numpy.random namespace, you will not get consistent pseudorandom numbers because they are pulling from a different RandomState instance than the one you just create (ref: https://stackoverflow.com/questions/37224116/difference-between-randomstate-and-seed-in-numpy)"
   ]
  },
  {
   "cell_type": "code",
   "execution_count": 37,
   "metadata": {},
   "outputs": [
    {
     "data": {
      "text/plain": [
       "array([0.5488135 , 0.71518937, 0.60276338, 0.54488318])"
      ]
     },
     "execution_count": 37,
     "metadata": {},
     "output_type": "execute_result"
    }
   ],
   "source": [
    "np.random.seed(0)\n",
    "np.random.rand(4)"
   ]
  },
  {
   "cell_type": "code",
   "execution_count": 38,
   "metadata": {},
   "outputs": [
    {
     "data": {
      "text/plain": [
       "array([0.5488135 , 0.71518937, 0.60276338, 0.54488318])"
      ]
     },
     "execution_count": 38,
     "metadata": {},
     "output_type": "execute_result"
    }
   ],
   "source": [
    "np.random.seed(0) #makes random numbers predictable\n",
    "np.random.rand(4)"
   ]
  },
  {
   "cell_type": "markdown",
   "metadata": {},
   "source": [
    "### With the seed reset (every time), the same set of numbers will appear every time. If the random seed is not reset, different numbers appear with every invocation:"
   ]
  },
  {
   "cell_type": "code",
   "execution_count": 39,
   "metadata": {},
   "outputs": [
    {
     "data": {
      "text/plain": [
       "array([0.4236548 , 0.64589411, 0.43758721, 0.891773  ])"
      ]
     },
     "execution_count": 39,
     "metadata": {},
     "output_type": "execute_result"
    }
   ],
   "source": [
    "np.random.rand(4)"
   ]
  },
  {
   "cell_type": "code",
   "execution_count": 40,
   "metadata": {},
   "outputs": [
    {
     "data": {
      "text/plain": [
       "array([0.96366276, 0.38344152, 0.79172504, 0.52889492])"
      ]
     },
     "execution_count": 40,
     "metadata": {},
     "output_type": "execute_result"
    }
   ],
   "source": [
    "np.random.rand(4)"
   ]
  },
  {
   "cell_type": "markdown",
   "metadata": {},
   "source": [
    "Pseudorandom numbers work by starting with a number (the seed), multiplying it by a large number, then taking modulo of that product. The resulting number is then used as the seed to generate the next \"random\" number. When you set the seed (every time), it does the same thing every time, giving you the same numbers\n",
    "\n",
    "If you want seemingly random numbers, do not set the seed. If you have code that uses random numbers that you want to debug, however, it can be very helpful to set the seed before each run so that the code does the same thing every time you run it.\n",
    "\n",
    "To get the most random numbers for each run, call numpy.random.seed(). This will cause numpy to set the seed to a random number obtained from /dev/urandom or its Windows analog or, if neither of those is available, it will use the clock (ref: https://stackoverflow.com/questions/21494489/what-does-numpy-random-seed0-do)"
   ]
  },
  {
   "cell_type": "markdown",
   "metadata": {},
   "source": [
    "# References\n",
    "- http://www.numpy.org\n",
    "- https://docs.scipy.org/doc/numpy-1.14.0/reference/routines.random.html\n",
    "- http://blog.cloudera.com/blog/2015/12/common-probability-distributions-the-data-scientists-crib-sheet/\n",
    "- https://en.wikipedia.org/wiki/Probability_density_function\n",
    "- https://en.wikipedia.org/wiki/Uniform_distribution_(continuous)\n",
    "- https://docs.scipy.org/doc/numpy-1.14.0/reference/generated/numpy.random.uniform.html#numpy.random.uniform\n",
    "- https://stackoverflow.com/questions/27644617/difference-between-n-and-size-parameters-in-np-random-binomialn-p-size-1000\n",
    "- https://en.wikipedia.org/wiki/Poisson_distribution\n",
    "- https://www.packtpub.com/mapt/book/application_development/9781783284375/11/ch11lvl1sec167/generating-random-numbers-from-a-poisson-distribution\n",
    "- https://en.wikipedia.org/wiki/Random_seed\n",
    "- https://stackoverflow.com/questions/37224116/difference-between-randomstate-and-seed-in-numpy\n",
    "- https://stackoverflow.com/questions/21494489/what-does-numpy-random-seed0-do\n",
    "- http://sphweb.bumc.bu.edu/otlt/MPH-Modules/BS/BS704_Probability/BS704_Probability7.html\n",
    "- https://www.statisticshowto.datasciencecentral.com/poisson-distribution/"
   ]
  }
 ],
 "metadata": {
  "kernelspec": {
   "display_name": "Python 3",
   "language": "python",
   "name": "python3"
  },
  "language_info": {
   "codemirror_mode": {
    "name": "ipython",
    "version": 3
   },
   "file_extension": ".py",
   "mimetype": "text/x-python",
   "name": "python",
   "nbconvert_exporter": "python",
   "pygments_lexer": "ipython3",
   "version": "3.6.6"
  }
 },
 "nbformat": 4,
 "nbformat_minor": 2
}
